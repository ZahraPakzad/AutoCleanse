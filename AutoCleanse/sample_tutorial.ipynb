{
 "cells": [
  {
   "cell_type": "code",
   "execution_count": 1,
   "metadata": {},
   "outputs": [],
   "source": [
    "import torch \n",
    "import pandas as pd\n",
    "import torch.nn as nn\n",
    "import time\n",
    "import io\n",
    "import joblib\n",
    "import argparse\n",
    "\n",
    "from torchsummary import summary\n",
    "from tqdm import tqdm\n",
    "from tabulate import tabulate\n",
    "from sklearn.preprocessing import *\n",
    "\n",
    "from AutoCleanse.utils import *\n",
    "from AutoCleanse.dataloader import PlainDataset, DataLoader\n",
    "from AutoCleanse.autoencoder import *\n",
    "from AutoCleanse.loss_model import loss_CEMSE\n",
    "from AutoCleanse.preprocessor import Preprocessor\n",
    "from AutoCleanse.anonymize import anonymize\n",
    "from AutoCleanse.bucketfs_client import *"
   ]
  },
  {
   "cell_type": "markdown",
   "metadata": {},
   "source": [
    "Device configuration"
   ]
  },
  {
   "cell_type": "code",
   "execution_count": 2,
   "metadata": {},
   "outputs": [
    {
     "data": {
      "text/plain": [
       "<torch._C.Generator at 0x7f803deb2ed0>"
      ]
     },
     "execution_count": 2,
     "metadata": {},
     "output_type": "execute_result"
    }
   ],
   "source": [
    "device = torch.device(\"cuda:0\" if torch.cuda.is_available() else \"cpu\")\n",
    "torch.manual_seed(42)"
   ]
  },
  {
   "cell_type": "markdown",
   "metadata": {},
   "source": [
    "## Setup directory path"
   ]
  },
  {
   "cell_type": "code",
   "execution_count": 3,
   "metadata": {},
   "outputs": [],
   "source": [
    "import os\n",
    "PROJECT_DIR = os.getcwd()\n",
    "os.chdir(PROJECT_DIR)\n",
    "DATASET_DIR = os.path.join(PROJECT_DIR,'dataset')\n",
    "EVAL_DIR = os.path.join(PROJECT_DIR,'evaluate')"
   ]
  },
  {
   "cell_type": "markdown",
   "metadata": {},
   "source": [
    "## Preparing data"
   ]
  },
  {
   "cell_type": "markdown",
   "metadata": {},
   "source": [
    "Load dataframe and group features by their type"
   ]
  },
  {
   "cell_type": "code",
   "execution_count": 4,
   "metadata": {},
   "outputs": [],
   "source": [
    "df = pd.read_csv(os.path.join(DATASET_DIR,'adult.csv')).drop(columns=['fnlwgt','income'])\n",
    "continous_columns = df.select_dtypes(include=['int64', 'float64']).columns.tolist()\n",
    "categorical_columns = df.select_dtypes(include=['object', 'bool']).columns.tolist()\n",
    "og_columns = df.columns.to_list()\n",
    "df = df[continous_columns+categorical_columns]"
   ]
  },
  {
   "cell_type": "markdown",
   "metadata": {},
   "source": [
    "Data preprocessing"
   ]
  },
  {
   "cell_type": "code",
   "execution_count": 16,
   "metadata": {},
   "outputs": [
    {
     "data": {
      "text/html": [
       "<div>\n",
       "<style scoped>\n",
       "    .dataframe tbody tr th:only-of-type {\n",
       "        vertical-align: middle;\n",
       "    }\n",
       "\n",
       "    .dataframe tbody tr th {\n",
       "        vertical-align: top;\n",
       "    }\n",
       "\n",
       "    .dataframe thead th {\n",
       "        text-align: right;\n",
       "    }\n",
       "</style>\n",
       "<table border=\"1\" class=\"dataframe\">\n",
       "  <thead>\n",
       "    <tr style=\"text-align: right;\">\n",
       "      <th></th>\n",
       "      <th>age</th>\n",
       "      <th>education.num</th>\n",
       "      <th>capital.gain</th>\n",
       "      <th>capital.loss</th>\n",
       "      <th>hours.per.week</th>\n",
       "      <th>workclass</th>\n",
       "      <th>education</th>\n",
       "      <th>marital.status</th>\n",
       "      <th>occupation</th>\n",
       "      <th>relationship</th>\n",
       "      <th>race</th>\n",
       "      <th>sex</th>\n",
       "      <th>native.country</th>\n",
       "    </tr>\n",
       "  </thead>\n",
       "  <tbody>\n",
       "    <tr>\n",
       "      <th>28296</th>\n",
       "      <td>48</td>\n",
       "      <td>5</td>\n",
       "      <td>0</td>\n",
       "      <td>-7002</td>\n",
       "      <td>20</td>\n",
       "      <td>?</td>\n",
       "      <td>9th</td>\n",
       "      <td>Separated</td>\n",
       "      <td>?</td>\n",
       "      <td>Not-in-family</td>\n",
       "      <td>Amer-Indian-Eskimo</td>\n",
       "      <td>Female</td>\n",
       "      <td>United-States</td>\n",
       "    </tr>\n",
       "    <tr>\n",
       "      <th>28217</th>\n",
       "      <td>28</td>\n",
       "      <td>-7002</td>\n",
       "      <td>0</td>\n",
       "      <td>0</td>\n",
       "      <td>40</td>\n",
       "      <td>?</td>\n",
       "      <td>HS-grad</td>\n",
       "      <td>Separated</td>\n",
       "      <td>?</td>\n",
       "      <td>NaN</td>\n",
       "      <td>White</td>\n",
       "      <td>Female</td>\n",
       "      <td>United-States</td>\n",
       "    </tr>\n",
       "    <tr>\n",
       "      <th>8054</th>\n",
       "      <td>38</td>\n",
       "      <td>5</td>\n",
       "      <td>0</td>\n",
       "      <td>0</td>\n",
       "      <td>40</td>\n",
       "      <td>Self-emp-not-inc</td>\n",
       "      <td>9th</td>\n",
       "      <td>Divorced</td>\n",
       "      <td>Craft-repair</td>\n",
       "      <td>Not-in-family</td>\n",
       "      <td>White</td>\n",
       "      <td>Male</td>\n",
       "      <td>United-States</td>\n",
       "    </tr>\n",
       "    <tr>\n",
       "      <th>4223</th>\n",
       "      <td>77</td>\n",
       "      <td>9</td>\n",
       "      <td>-7002</td>\n",
       "      <td>0</td>\n",
       "      <td>20</td>\n",
       "      <td>NaN</td>\n",
       "      <td>HS-grad</td>\n",
       "      <td>Never-married</td>\n",
       "      <td>Machine-op-inspct</td>\n",
       "      <td>Not-in-family</td>\n",
       "      <td>White</td>\n",
       "      <td>Male</td>\n",
       "      <td>United-States</td>\n",
       "    </tr>\n",
       "    <tr>\n",
       "      <th>22723</th>\n",
       "      <td>33</td>\n",
       "      <td>11</td>\n",
       "      <td>0</td>\n",
       "      <td>0</td>\n",
       "      <td>84</td>\n",
       "      <td>Private</td>\n",
       "      <td>Assoc-voc</td>\n",
       "      <td>Married-civ-spouse</td>\n",
       "      <td>NaN</td>\n",
       "      <td>Husband</td>\n",
       "      <td>White</td>\n",
       "      <td>Male</td>\n",
       "      <td>NaN</td>\n",
       "    </tr>\n",
       "    <tr>\n",
       "      <th>...</th>\n",
       "      <td>...</td>\n",
       "      <td>...</td>\n",
       "      <td>...</td>\n",
       "      <td>...</td>\n",
       "      <td>...</td>\n",
       "      <td>...</td>\n",
       "      <td>...</td>\n",
       "      <td>...</td>\n",
       "      <td>...</td>\n",
       "      <td>...</td>\n",
       "      <td>...</td>\n",
       "      <td>...</td>\n",
       "      <td>...</td>\n",
       "    </tr>\n",
       "    <tr>\n",
       "      <th>21656</th>\n",
       "      <td>25</td>\n",
       "      <td>10</td>\n",
       "      <td>0</td>\n",
       "      <td>0</td>\n",
       "      <td>35</td>\n",
       "      <td>Self-emp-inc</td>\n",
       "      <td>Some-college</td>\n",
       "      <td>Never-married</td>\n",
       "      <td>Sales</td>\n",
       "      <td>Own-child</td>\n",
       "      <td>White</td>\n",
       "      <td>Female</td>\n",
       "      <td>NaN</td>\n",
       "    </tr>\n",
       "    <tr>\n",
       "      <th>28318</th>\n",
       "      <td>19</td>\n",
       "      <td>7</td>\n",
       "      <td>0</td>\n",
       "      <td>0</td>\n",
       "      <td>-7002</td>\n",
       "      <td>Private</td>\n",
       "      <td>11th</td>\n",
       "      <td>Never-married</td>\n",
       "      <td>NaN</td>\n",
       "      <td>NaN</td>\n",
       "      <td>White</td>\n",
       "      <td>Male</td>\n",
       "      <td>United-States</td>\n",
       "    </tr>\n",
       "    <tr>\n",
       "      <th>32547</th>\n",
       "      <td>39</td>\n",
       "      <td>-7002</td>\n",
       "      <td>-7002</td>\n",
       "      <td>0</td>\n",
       "      <td>20</td>\n",
       "      <td>Local-gov</td>\n",
       "      <td>Assoc-acdm</td>\n",
       "      <td>Married-civ-spouse</td>\n",
       "      <td>Adm-clerical</td>\n",
       "      <td>Wife</td>\n",
       "      <td>NaN</td>\n",
       "      <td>Female</td>\n",
       "      <td>United-States</td>\n",
       "    </tr>\n",
       "    <tr>\n",
       "      <th>9375</th>\n",
       "      <td>42</td>\n",
       "      <td>9</td>\n",
       "      <td>0</td>\n",
       "      <td>0</td>\n",
       "      <td>40</td>\n",
       "      <td>Private</td>\n",
       "      <td>HS-grad</td>\n",
       "      <td>NaN</td>\n",
       "      <td>NaN</td>\n",
       "      <td>Husband</td>\n",
       "      <td>White</td>\n",
       "      <td>NaN</td>\n",
       "      <td>NaN</td>\n",
       "    </tr>\n",
       "    <tr>\n",
       "      <th>9477</th>\n",
       "      <td>26</td>\n",
       "      <td>-7002</td>\n",
       "      <td>0</td>\n",
       "      <td>-7002</td>\n",
       "      <td>48</td>\n",
       "      <td>Self-emp-not-inc</td>\n",
       "      <td>Some-college</td>\n",
       "      <td>Never-married</td>\n",
       "      <td>Other-service</td>\n",
       "      <td>NaN</td>\n",
       "      <td>White</td>\n",
       "      <td>NaN</td>\n",
       "      <td>United-States</td>\n",
       "    </tr>\n",
       "  </tbody>\n",
       "</table>\n",
       "<p>4885 rows × 13 columns</p>\n",
       "</div>"
      ],
      "text/plain": [
       "       age  education.num  capital.gain  capital.loss  hours.per.week  \\\n",
       "28296   48              5             0         -7002              20   \n",
       "28217   28          -7002             0             0              40   \n",
       "8054    38              5             0             0              40   \n",
       "4223    77              9         -7002             0              20   \n",
       "22723   33             11             0             0              84   \n",
       "...    ...            ...           ...           ...             ...   \n",
       "21656   25             10             0             0              35   \n",
       "28318   19              7             0             0           -7002   \n",
       "32547   39          -7002         -7002             0              20   \n",
       "9375    42              9             0             0              40   \n",
       "9477    26          -7002             0         -7002              48   \n",
       "\n",
       "              workclass     education      marital.status         occupation  \\\n",
       "28296                 ?           9th           Separated                  ?   \n",
       "28217                 ?       HS-grad           Separated                  ?   \n",
       "8054   Self-emp-not-inc           9th            Divorced       Craft-repair   \n",
       "4223                NaN       HS-grad       Never-married  Machine-op-inspct   \n",
       "22723           Private     Assoc-voc  Married-civ-spouse                NaN   \n",
       "...                 ...           ...                 ...                ...   \n",
       "21656      Self-emp-inc  Some-college       Never-married              Sales   \n",
       "28318           Private          11th       Never-married                NaN   \n",
       "32547         Local-gov    Assoc-acdm  Married-civ-spouse       Adm-clerical   \n",
       "9375            Private       HS-grad                 NaN                NaN   \n",
       "9477   Self-emp-not-inc  Some-college       Never-married      Other-service   \n",
       "\n",
       "        relationship                race     sex native.country  \n",
       "28296  Not-in-family  Amer-Indian-Eskimo  Female  United-States  \n",
       "28217            NaN               White  Female  United-States  \n",
       "8054   Not-in-family               White    Male  United-States  \n",
       "4223   Not-in-family               White    Male  United-States  \n",
       "22723        Husband               White    Male            NaN  \n",
       "...              ...                 ...     ...            ...  \n",
       "21656      Own-child               White  Female            NaN  \n",
       "28318            NaN               White    Male  United-States  \n",
       "32547           Wife                 NaN  Female  United-States  \n",
       "9375         Husband               White     NaN            NaN  \n",
       "9477             NaN               White     NaN  United-States  \n",
       "\n",
       "[4885 rows x 13 columns]"
      ]
     },
     "execution_count": 16,
     "metadata": {},
     "output_type": "execute_result"
    }
   ],
   "source": [
    "scaler = MinMaxScaler()\n",
    "onehotencoder = OneHotEncoder(handle_unknown='ignore',sparse_output=False)\n",
    "preprocessor = Preprocessor(scaler,onehotencoder)\n",
    "\n",
    "X_train,X_val,X_test = preprocessor.split(df=df,\n",
    "                                        train_ratio=0.7,\n",
    "                                        val_ratio=0.15,\n",
    "                                        test_ratio=0.15,\n",
    "                                        random_seed=42)\n",
    "X_dirty = corrupt(X_test,0.2,42)\n",
    "X_dirty\n",
    "# X_train = preprocessor.fit_transform(input_df=X_train,\n",
    "#                                     continous_columns=continous_columns,\n",
    "#                                     categorical_columns=categorical_columns)\n",
    "\n",
    "# X_val = preprocessor.transform(input_df=X_val,    \n",
    "#                                continous_columns=continous_columns,\n",
    "#                                categorical_columns=categorical_columns)                          \n",
    "\n",
    "# X_test = preprocessor.transform(input_df=X_test,   \n",
    "#                                 continous_columns=continous_columns,\n",
    "#                                 categorical_columns=categorical_columns)  \n",
    "\n",
    "# X_dirty = preprocessor.transform(input_df=X_dirty,   \n",
    "#                                 continous_columns=continous_columns,\n",
    "#                                 categorical_columns=categorical_columns)\n",
    "\n",
    "# categories = preprocessor.encoder.categories_"
   ]
  },
  {
   "cell_type": "markdown",
   "metadata": {},
   "source": [
    "(Optional) Check save/load function of preprocessor\n",
    "\n",
    "Both functiona take in 2 parameters:\n",
    "\n",
    "    - Suffix of the preprocessor name, in the example below would be **preprocessor_main.pkl**\n",
    "    - Save/load location: can either be \"local\" to save/load in the home folder or \"bucketfs\" to save/load to/from Exasol BucketFS"
   ]
  },
  {
   "cell_type": "code",
   "execution_count": null,
   "metadata": {
    "tags": [
     "hide_cell"
    ]
   },
   "outputs": [],
   "source": [
    "preprocessor.save(\"main\",\"local\")\n",
    "preprocessor.save(\"main\",\"bucketfs\")\n",
    "preprocessor = Preprocessor(scaler=MinMaxScaler(),encoder=OneHotEncoder(sparse=False))\n",
    "preprocessor2.load(\"main\",\"local\")\n",
    "preprocessor2.load(\"main\",\"bucketfs\")"
   ]
  },
  {
   "cell_type": "markdown",
   "metadata": {},
   "source": [
    "Convert dataframes into datasets, and create dataloaders"
   ]
  },
  {
   "cell_type": "code",
   "execution_count": null,
   "metadata": {},
   "outputs": [],
   "source": [
    "batch_size = 64"
   ]
  },
  {
   "cell_type": "code",
   "execution_count": null,
   "metadata": {},
   "outputs": [],
   "source": [
    "train_dataset = PlainDataset(X_train)\n",
    "val_dataset = PlainDataset(X_val)\n",
    "test_dataset = PlainDataset(X_test)\n",
    "dirty_dataset = PlainDataset(X_dirty)\n",
    "\n",
    "def custom_collate_fn(batch):\n",
    "    tensor_data = torch.stack([item[0] for item in batch])\n",
    "    indices = [item[1] for item in batch]\n",
    "    return tensor_data, indices\n",
    "\n",
    "train_loader = DataLoader(train_dataset, batch_size=batch_size, shuffle=True, drop_last=True,collate_fn=custom_collate_fn)\n",
    "val_loader = DataLoader(val_dataset, batch_size=batch_size, shuffle=False, drop_last=True, collate_fn=custom_collate_fn)\n",
    "test_loader = DataLoader(test_dataset, batch_size=batch_size, shuffle=False, drop_last=True, collate_fn=custom_collate_fn)\n",
    "dirty_loader = DataLoader(dirty_dataset, batch_size=batch_size, shuffle=False, drop_last=True, collate_fn=custom_collate_fn)"
   ]
  },
  {
   "cell_type": "markdown",
   "metadata": {},
   "source": [
    "## Instantiate model"
   ]
  },
  {
   "cell_type": "code",
   "execution_count": null,
   "metadata": {},
   "outputs": [],
   "source": [
    "layers = [X_train.shape[1],1024,128]   \n",
    "wlc = (1,1) \n",
    "\n",
    "autoencoder = Autoencoder(layers=layers,dropout_enc=[(0,0.0)],dropout_dec=[(0,0.1)], batch_norm=True, \\\n",
    "                          learning_rate=1e-4,weight_decay=1e-5,l1_strength=1e-5,l2_strength=1e-5)"
   ]
  },
  {
   "cell_type": "code",
   "execution_count": null,
   "metadata": {},
   "outputs": [],
   "source": [
    "summary(autoencoder.to(device),torch.tensor(X_train.values).float().to(device).shape[1:])"
   ]
  },
  {
   "cell_type": "markdown",
   "metadata": {},
   "source": [
    "(Optional) Model can be loaded from checkpoint after instantiation\n",
    "\n",
    "The function takes in 2 parameters:\n",
    "\n",
    "    - Suffix of the preprocessor name, in the example below would be **autoencoder_main.pkl**\n",
    "    - Save/load location: can either be \"local\" to load in the home folder or \"bucketfs\" to load from Exasol BucketFS"
   ]
  },
  {
   "cell_type": "code",
   "execution_count": null,
   "metadata": {
    "tags": [
     "hide_cell"
    ]
   },
   "outputs": [],
   "source": [
    "autoencoder.load(\"local\",\"main\")"
   ]
  },
  {
   "cell_type": "markdown",
   "metadata": {},
   "source": [
    "### Train the model"
   ]
  },
  {
   "cell_type": "code",
   "execution_count": null,
   "metadata": {},
   "outputs": [],
   "source": [
    "autoencoder.train_model(\n",
    "      patience=10,\n",
    "      num_epochs=100,\n",
    "      batch_size=batch_size,\n",
    "      train_loader=train_loader,\n",
    "      val_loader=val_loader,\n",
    "      continous_columns=continous_columns, \n",
    "      categorical_columns=categorical_columns, \n",
    "      categories=categories,\n",
    "      device=device,\n",
    "      wlc=wlc)"
   ]
  },
  {
   "cell_type": "markdown",
   "metadata": {},
   "source": [
    "(Optional) Model can be saved after training\n",
    "\n",
    "The function takes in 2 parameters:\n",
    "\n",
    "    - Suffix of the preprocessor name, in the example below would be **autoencoder_main.pkl**\n",
    "    - Save/load location: can either be \"local\" to load in the home folder or \"bucketfs\" to load from Exasol BucketFS"
   ]
  },
  {
   "cell_type": "code",
   "execution_count": null,
   "metadata": {
    "tags": [
     "hide_cell"
    ]
   },
   "outputs": [],
   "source": [
    "autoencoder.save(\"local\",\"main\")"
   ]
  },
  {
   "cell_type": "markdown",
   "metadata": {},
   "source": [
    "### Use trained model to clean data"
   ]
  },
  {
   "cell_type": "code",
   "execution_count": null,
   "metadata": {},
   "outputs": [],
   "source": [
    "cleaned_data = autoencoder.clean(dirty_loader=dirty_loader,\n",
    "                                test_loader=test_loader,\n",
    "                                df=X_dirty,\n",
    "                                batch_size=batch_size,\n",
    "                                continous_columns=continous_columns, \n",
    "                                categorical_columns=categorical_columns, \n",
    "                                og_columns=og_columns,\n",
    "                                onehotencoder=preprocessor.encoder, \n",
    "                                scaler=preprocessor.scaler,\n",
    "                                device=device) "
   ]
  },
  {
   "cell_type": "code",
   "execution_count": null,
   "metadata": {},
   "outputs": [],
   "source": [
    "# original data\n",
    "print(tabulate(df.loc[[28296,28217,8054,4223,22723],og_columns],headers=og_columns,tablefmt=\"simple\",maxcolwidths=[None, 4]))"
   ]
  },
  {
   "cell_type": "code",
   "execution_count": null,
   "metadata": {},
   "outputs": [],
   "source": [
    "# cleaned data\n",
    "print(tabulate(cleaned_data.loc[[28296,28217,8054,4223,22723]],headers=cleaned_data.columns.to_list(),tablefmt=\"simple\",maxcolwidths=[None, 4]))"
   ]
  },
  {
   "cell_type": "markdown",
   "metadata": {},
   "source": [
    "### Use trained model to anonymize data"
   ]
  },
  {
   "cell_type": "code",
   "execution_count": null,
   "metadata": {},
   "outputs": [],
   "source": [
    "anonymized_data = autoencoder.anonymize(df=X_test,\n",
    "                                        data_loader=test_loader,\n",
    "                                        batch_size=batch_size,\n",
    "                                        device=device)"
   ]
  },
  {
   "cell_type": "code",
   "execution_count": null,
   "metadata": {},
   "outputs": [],
   "source": [
    "# anonymized data\n",
    "print(tabulate(anonymized_data.round(decimals=4).iloc[:5,:32],headers=anonymized_data.columns.to_list(),tablefmt=\"simple\",maxcolwidths=[None, 6]))"
   ]
  }
 ],
 "metadata": {
  "kernelspec": {
   "display_name": "gpt",
   "language": "python",
   "name": "python3"
  },
  "language_info": {
   "codemirror_mode": {
    "name": "ipython",
    "version": 3
   },
   "file_extension": ".py",
   "mimetype": "text/x-python",
   "name": "python",
   "nbconvert_exporter": "python",
   "pygments_lexer": "ipython3",
   "version": "3.9.18"
  }
 },
 "nbformat": 4,
 "nbformat_minor": 2
}
