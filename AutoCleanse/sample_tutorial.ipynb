{
 "cells": [
  {
   "cell_type": "code",
   "execution_count": 1,
   "metadata": {},
   "outputs": [
    {
     "name": "stderr",
     "output_type": "stream",
     "text": [
      "c:\\Users\\zpakz\\AppData\\Local\\Programs\\Python\\Python310\\lib\\site-packages\\tqdm\\auto.py:22: TqdmWarning: IProgress not found. Please update jupyter and ipywidgets. See https://ipywidgets.readthedocs.io/en/stable/user_install.html\n",
      "  from .autonotebook import tqdm as notebook_tqdm\n"
     ]
    }
   ],
   "source": [
    "import torch \n",
    "import pandas as pd\n",
    "import torch.nn as nn\n",
    "import time\n",
    "import io\n",
    "import joblib\n",
    "import argparse\n",
    "\n",
    "from torchsummary import summary\n",
    "from tqdm import tqdm\n",
    "from tabulate import tabulate\n",
    "from sklearn.preprocessing import *\n",
    "\n",
    "# from preprocessor import Preprocessor\n",
    "# from AutoCleanse.utils import *\n",
    "# from AutoCleanse.dataloader import PlainDataset, DataLoader\n",
    "# from AutoCleanse.autoencoder import *\n",
    "# from AutoCleanse.loss_model import loss_CEMSE\n",
    "# # from AutoCleanse.preprocessor import Preprocessor\n",
    "# from AutoCleanse.anonymize import anonymize\n",
    "# from AutoCleanse.bucketfs_client import *\n",
    "\n",
    "from utils import *\n",
    "from dataloader import PlainDataset, DataLoader\n",
    "from autoencoder import *\n",
    "from masked_autoencoder import *\n",
    "from loss_model import loss_CEMSE\n",
    "from preprocessor import Preprocessor\n",
    "from anonymize import anonymize\n",
    "from bucketfs_client import *"
   ]
  },
  {
   "cell_type": "markdown",
   "metadata": {},
   "source": [
    "Device configuration"
   ]
  },
  {
   "cell_type": "code",
   "execution_count": 2,
   "metadata": {},
   "outputs": [
    {
     "data": {
      "text/plain": [
       "<torch._C.Generator at 0x19ce8df70f0>"
      ]
     },
     "execution_count": 2,
     "metadata": {},
     "output_type": "execute_result"
    }
   ],
   "source": [
    "device = torch.device(\"cuda:0\" if torch.cuda.is_available() else \"cpu\")\n",
    "torch.manual_seed(42)"
   ]
  },
  {
   "cell_type": "markdown",
   "metadata": {},
   "source": [
    "## Setup directory path"
   ]
  },
  {
   "cell_type": "code",
   "execution_count": 3,
   "metadata": {},
   "outputs": [],
   "source": [
    "import os\n",
    "PROJECT_DIR = os.getcwd()\n",
    "os.chdir(PROJECT_DIR)\n",
    "DATASET_DIR = os.path.join(PROJECT_DIR,'dataset')\n",
    "EVAL_DIR = os.path.join(PROJECT_DIR,'evaluate')"
   ]
  },
  {
   "cell_type": "markdown",
   "metadata": {},
   "source": [
    "## Preparing data"
   ]
  },
  {
   "cell_type": "markdown",
   "metadata": {},
   "source": [
    "Load dataframe and group features by their type"
   ]
  },
  {
   "cell_type": "code",
   "execution_count": 4,
   "metadata": {},
   "outputs": [],
   "source": [
    "df = pd.read_csv(os.path.join(DATASET_DIR,'adult.csv')).drop(columns=['fnlwgt','income'])\n",
    "continous_columns = df.select_dtypes(include=['int64', 'float64']).columns.tolist()\n",
    "categorical_columns = df.select_dtypes(include=['object', 'bool']).columns.tolist()\n",
    "og_columns = df.columns.to_list()\n",
    "df = df[continous_columns+categorical_columns]"
   ]
  },
  {
   "cell_type": "markdown",
   "metadata": {},
   "source": [
    "Data preprocessing"
   ]
  },
  {
   "cell_type": "code",
   "execution_count": 5,
   "metadata": {},
   "outputs": [],
   "source": [
    "scaler = MinMaxScaler()\n",
    "onehotencoder = OneHotEncoder(handle_unknown='ignore',sparse_output=False)\n",
    "preprocessor = Preprocessor(scaler,\n",
    "                            onehotencoder,\n",
    "                            continous_columns,\n",
    "                            categorical_columns)\n",
    "\n",
    "X_train,X_val,X_test = preprocessor.split(df=df,\n",
    "                                        train_ratio=0.7,\n",
    "                                        val_ratio=0.15,\n",
    "                                        test_ratio=0.15,\n",
    "                                        random_seed=42)\n",
    "X_dirty = replace_with_nan(X_test,0.2,42)\n",
    "\n",
    "X_train = preprocessor.fit_transform(input_df=X_train)\n",
    "X_val = preprocessor.transform(input_df=X_val)        \n",
    "X_test = preprocessor.transform(input_df=X_test)  \n",
    "\n",
    "categories = preprocessor.encoder.categories_\n"
   ]
  },
  {
   "cell_type": "code",
   "execution_count": 6,
   "metadata": {},
   "outputs": [],
   "source": [
    "batch_size = 64\n",
    "\n",
    "train_dataset = PlainDataset(X_train)\n",
    "val_dataset = PlainDataset(X_val)\n",
    "test_dataset = PlainDataset(X_test)\n",
    "\n",
    "def custom_collate_fn(batch):\n",
    "    tensor_data = torch.stack([item[0] for item in batch])\n",
    "    indices = [item[1] for item in batch]\n",
    "    return tensor_data, indices\n",
    "\n",
    "train_loader = DataLoader(train_dataset, batch_size=batch_size, shuffle=True, drop_last=True,collate_fn=custom_collate_fn)\n",
    "val_loader = DataLoader(val_dataset, batch_size=batch_size, shuffle=False, drop_last=True, collate_fn=custom_collate_fn)\n",
    "test_loader = DataLoader(test_dataset, batch_size=batch_size, shuffle=False, drop_last=True, collate_fn=custom_collate_fn)"
   ]
  },
  {
   "cell_type": "markdown",
   "metadata": {},
   "source": [
    "### Training MAE model and next the main AutoEncoder"
   ]
  },
  {
   "cell_type": "code",
   "execution_count": 7,
   "metadata": {},
   "outputs": [],
   "source": [
    "layers = [X_train.shape[1],1024,128] \n",
    "wlc = (1,1) "
   ]
  },
  {
   "cell_type": "markdown",
   "metadata": {},
   "source": [
    "### MAE"
   ]
  },
  {
   "cell_type": "code",
   "execution_count": 8,
   "metadata": {},
   "outputs": [],
   "source": [
    "# for the masked auto encoder, only training on the continuous section of the data. These columns will be used for inference in MAE,\n",
    "# as this method is only used to replace the NAN values for these columns.\n",
    "\n",
    "X_train_mae = X_train.iloc[:, 0:len(continous_columns)]\n",
    "X_val_mae = X_val.iloc[:, 0:len(continous_columns)]\n",
    "X_test_mae = X_test.iloc[:, 0:len(continous_columns)]\n",
    "\n",
    "train_dataset_mae = PlainDataset(X_train_mae)\n",
    "val_dataset_mae = PlainDataset(X_val_mae)\n",
    "test_dataset_mae = PlainDataset(X_test_mae)\n",
    "\n",
    "train_loader_mae = DataLoader(train_dataset_mae, batch_size=batch_size, shuffle=True, drop_last=True,collate_fn=custom_collate_fn)\n",
    "val_loader_mae = DataLoader(val_dataset_mae, batch_size=batch_size, shuffle=False, drop_last=True, collate_fn=custom_collate_fn)\n",
    "test_loader_mae = DataLoader(test_dataset_mae, batch_size=batch_size, shuffle=False, drop_last=True, collate_fn=custom_collate_fn)"
   ]
  },
  {
   "cell_type": "code",
   "execution_count": 9,
   "metadata": {},
   "outputs": [],
   "source": [
    "## fit MAE model\n",
    "layers_mae = [len(continous_columns),64,64,16] # layers for the MAE model, can be tuned\n",
    "\n",
    "mae_autoencoder = MaskedAutoencoder(layers=layers_mae,dropout_enc=[(0,0.0)],dropout_dec=[(0,0.1)], batch_norm=True, \\\n",
    "                          learning_rate=1e-4,weight_decay=1e-5,l1_strength=1e-5,l2_strength=1e-5)\n"
   ]
  },
  {
   "cell_type": "code",
   "execution_count": 10,
   "metadata": {},
   "outputs": [
    {
     "name": "stderr",
     "output_type": "stream",
     "text": [
      "Epoch [1/100], Training Progress:   1%|▏         | 5/356 [00:00<00:11, 30.75it/s]"
     ]
    },
    {
     "name": "stdout",
     "output_type": "stream",
     "text": [
      "train progress: \n",
      "Epoch [1/100], Training Progress:   0%|          | 0/356 [00:00<?, ?it/s]\n"
     ]
    },
    {
     "name": "stderr",
     "output_type": "stream",
     "text": [
      "Epoch [1/100], Training Progress: 100%|██████████| 356/356 [00:03<00:00, 99.09it/s] \n",
      "Epoch [1/100], Validation Progress: 100%|██████████| 76/76 [00:00<00:00, 143.32it/s]\n"
     ]
    },
    {
     "name": "stdout",
     "output_type": "stream",
     "text": [
      "Epoch [1/100], Training Loss: 0.09763432\n",
      "Epoch [1/100], Validation Loss: 0.06671038\n",
      "Epoch [1/100], Training CE Loss: 0.00000000\n",
      "Epoch [1/100], Validation CE Loss: 0.00000000\n",
      "Epoch [1/100], Training MSE Loss: 0.09763432\n",
      "Epoch [1/100], Validation MSE Loss: 0.06671038\n",
      "Epoch [1/100], Training Loss Comp: 0.09763432\n",
      "Epoch [1/100], Validation Loss Comp: 0.06671038\n",
      "Epoch [1/100]: Learning Rate = [0.0001]\n",
      "\n"
     ]
    },
    {
     "name": "stderr",
     "output_type": "stream",
     "text": [
      "Epoch [2/100], Training Progress:   3%|▎         | 11/356 [00:00<00:03, 103.97it/s]"
     ]
    },
    {
     "name": "stdout",
     "output_type": "stream",
     "text": [
      "train progress: \n",
      "Epoch [2/100], Training Progress:   0%|          | 0/356 [00:00<?, ?it/s]\n"
     ]
    },
    {
     "name": "stderr",
     "output_type": "stream",
     "text": [
      "Epoch [2/100], Training Progress: 100%|██████████| 356/356 [00:03<00:00, 103.98it/s]\n",
      "Epoch [2/100], Validation Progress: 100%|██████████| 76/76 [00:00<00:00, 144.44it/s]\n"
     ]
    },
    {
     "name": "stdout",
     "output_type": "stream",
     "text": [
      "Epoch [2/100], Training Loss: 0.05075332\n",
      "Epoch [2/100], Validation Loss: 0.03758893\n",
      "Epoch [2/100], Training CE Loss: 0.00000000\n",
      "Epoch [2/100], Validation CE Loss: 0.00000000\n",
      "Epoch [2/100], Training MSE Loss: 0.05075332\n",
      "Epoch [2/100], Validation MSE Loss: 0.03758893\n",
      "Epoch [2/100], Training Loss Comp: 0.05075332\n",
      "Epoch [2/100], Validation Loss Comp: 0.03758893\n",
      "Epoch [2/100]: Learning Rate = [0.0001]\n",
      "\n"
     ]
    },
    {
     "name": "stderr",
     "output_type": "stream",
     "text": [
      "Epoch [3/100], Training Progress:   3%|▎         | 11/356 [00:00<00:03, 101.57it/s]"
     ]
    },
    {
     "name": "stdout",
     "output_type": "stream",
     "text": [
      "train progress: \n",
      "Epoch [3/100], Training Progress:   0%|          | 0/356 [00:00<?, ?it/s]\n"
     ]
    },
    {
     "name": "stderr",
     "output_type": "stream",
     "text": [
      "Epoch [3/100], Training Progress: 100%|██████████| 356/356 [00:03<00:00, 104.65it/s]\n",
      "Epoch [3/100], Validation Progress: 100%|██████████| 76/76 [00:00<00:00, 144.54it/s]\n"
     ]
    },
    {
     "name": "stdout",
     "output_type": "stream",
     "text": [
      "Epoch [3/100], Training Loss: 0.02837885\n",
      "Epoch [3/100], Validation Loss: 0.02092179\n",
      "Epoch [3/100], Training CE Loss: 0.00000000\n",
      "Epoch [3/100], Validation CE Loss: 0.00000000\n",
      "Epoch [3/100], Training MSE Loss: 0.02837885\n",
      "Epoch [3/100], Validation MSE Loss: 0.02092179\n",
      "Epoch [3/100], Training Loss Comp: 0.02837885\n",
      "Epoch [3/100], Validation Loss Comp: 0.02092179\n",
      "Epoch [3/100]: Learning Rate = [0.0001]\n",
      "\n"
     ]
    },
    {
     "name": "stderr",
     "output_type": "stream",
     "text": [
      "Epoch [4/100], Training Progress:   3%|▎         | 10/356 [00:00<00:03, 96.38it/s]"
     ]
    },
    {
     "name": "stdout",
     "output_type": "stream",
     "text": [
      "train progress: \n",
      "Epoch [4/100], Training Progress:   0%|          | 0/356 [00:00<?, ?it/s]\n"
     ]
    },
    {
     "name": "stderr",
     "output_type": "stream",
     "text": [
      "Epoch [4/100], Training Progress: 100%|██████████| 356/356 [00:03<00:00, 102.92it/s]\n",
      "Epoch [4/100], Validation Progress: 100%|██████████| 76/76 [00:00<00:00, 129.84it/s]\n"
     ]
    },
    {
     "name": "stdout",
     "output_type": "stream",
     "text": [
      "Epoch [4/100], Training Loss: 0.01754266\n",
      "Epoch [4/100], Validation Loss: 0.01494005\n",
      "Epoch [4/100], Training CE Loss: 0.00000000\n",
      "Epoch [4/100], Validation CE Loss: 0.00000000\n",
      "Epoch [4/100], Training MSE Loss: 0.01754266\n",
      "Epoch [4/100], Validation MSE Loss: 0.01494005\n",
      "Epoch [4/100], Training Loss Comp: 0.01754266\n",
      "Epoch [4/100], Validation Loss Comp: 0.01494005\n",
      "Epoch [4/100]: Learning Rate = [0.0001]\n",
      "\n"
     ]
    },
    {
     "name": "stderr",
     "output_type": "stream",
     "text": [
      "Epoch [5/100], Training Progress:   3%|▎         | 11/356 [00:00<00:03, 102.08it/s]"
     ]
    },
    {
     "name": "stdout",
     "output_type": "stream",
     "text": [
      "train progress: \n",
      "Epoch [5/100], Training Progress:   0%|          | 0/356 [00:00<?, ?it/s]\n"
     ]
    },
    {
     "name": "stderr",
     "output_type": "stream",
     "text": [
      "Epoch [5/100], Training Progress: 100%|██████████| 356/356 [00:03<00:00, 102.79it/s]\n",
      "Epoch [5/100], Validation Progress: 100%|██████████| 76/76 [00:00<00:00, 145.15it/s]\n"
     ]
    },
    {
     "name": "stdout",
     "output_type": "stream",
     "text": [
      "Epoch [5/100], Training Loss: 0.01316105\n",
      "Epoch [5/100], Validation Loss: 0.01202157\n",
      "Epoch [5/100], Training CE Loss: 0.00000000\n",
      "Epoch [5/100], Validation CE Loss: 0.00000000\n",
      "Epoch [5/100], Training MSE Loss: 0.01316105\n",
      "Epoch [5/100], Validation MSE Loss: 0.01202157\n",
      "Epoch [5/100], Training Loss Comp: 0.01316105\n",
      "Epoch [5/100], Validation Loss Comp: 0.01202157\n",
      "Epoch [5/100]: Learning Rate = [0.0001]\n",
      "\n"
     ]
    },
    {
     "name": "stderr",
     "output_type": "stream",
     "text": [
      "Epoch [6/100], Training Progress:   3%|▎         | 10/356 [00:00<00:03, 93.65it/s]"
     ]
    },
    {
     "name": "stdout",
     "output_type": "stream",
     "text": [
      "train progress: \n",
      "Epoch [6/100], Training Progress:   0%|          | 0/356 [00:00<?, ?it/s]\n"
     ]
    },
    {
     "name": "stderr",
     "output_type": "stream",
     "text": [
      "Epoch [6/100], Training Progress: 100%|██████████| 356/356 [00:03<00:00, 101.82it/s]\n",
      "Epoch [6/100], Validation Progress: 100%|██████████| 76/76 [00:00<00:00, 141.78it/s]\n"
     ]
    },
    {
     "name": "stdout",
     "output_type": "stream",
     "text": [
      "Epoch [6/100], Training Loss: 0.01120654\n",
      "Epoch [6/100], Validation Loss: 0.01093972\n",
      "Epoch [6/100], Training CE Loss: 0.00000000\n",
      "Epoch [6/100], Validation CE Loss: 0.00000000\n",
      "Epoch [6/100], Training MSE Loss: 0.01120654\n",
      "Epoch [6/100], Validation MSE Loss: 0.01093972\n",
      "Epoch [6/100], Training Loss Comp: 0.01120654\n",
      "Epoch [6/100], Validation Loss Comp: 0.01093972\n",
      "Epoch [6/100]: Learning Rate = [0.0001]\n",
      "\n"
     ]
    },
    {
     "name": "stderr",
     "output_type": "stream",
     "text": [
      "Epoch [7/100], Training Progress:   5%|▌         | 18/356 [00:00<00:03, 86.66it/s]"
     ]
    },
    {
     "name": "stdout",
     "output_type": "stream",
     "text": [
      "train progress: \n",
      "Epoch [7/100], Training Progress:   0%|          | 0/356 [00:00<?, ?it/s]\n"
     ]
    },
    {
     "name": "stderr",
     "output_type": "stream",
     "text": [
      "Epoch [7/100], Training Progress: 100%|██████████| 356/356 [00:03<00:00, 98.73it/s] \n",
      "Epoch [7/100], Validation Progress: 100%|██████████| 76/76 [00:00<00:00, 142.64it/s]\n"
     ]
    },
    {
     "name": "stdout",
     "output_type": "stream",
     "text": [
      "Epoch [7/100], Training Loss: 0.01012432\n",
      "Epoch [7/100], Validation Loss: 0.01017111\n",
      "Epoch [7/100], Training CE Loss: 0.00000000\n",
      "Epoch [7/100], Validation CE Loss: 0.00000000\n",
      "Epoch [7/100], Training MSE Loss: 0.01012432\n",
      "Epoch [7/100], Validation MSE Loss: 0.01017111\n",
      "Epoch [7/100], Training Loss Comp: 0.01012432\n",
      "Epoch [7/100], Validation Loss Comp: 0.01017111\n",
      "Epoch [7/100]: Learning Rate = [0.0001]\n",
      "\n"
     ]
    },
    {
     "name": "stderr",
     "output_type": "stream",
     "text": [
      "Epoch [8/100], Training Progress:   3%|▎         | 9/356 [00:00<00:03, 87.60it/s]"
     ]
    },
    {
     "name": "stdout",
     "output_type": "stream",
     "text": [
      "train progress: \n",
      "Epoch [8/100], Training Progress:   0%|          | 0/356 [00:00<?, ?it/s]\n"
     ]
    },
    {
     "name": "stderr",
     "output_type": "stream",
     "text": [
      "Epoch [8/100], Training Progress: 100%|██████████| 356/356 [00:03<00:00, 102.06it/s]\n",
      "Epoch [8/100], Validation Progress: 100%|██████████| 76/76 [00:00<00:00, 137.23it/s]\n"
     ]
    },
    {
     "name": "stdout",
     "output_type": "stream",
     "text": [
      "Epoch [8/100], Training Loss: 0.00942752\n",
      "Epoch [8/100], Validation Loss: 0.00923648\n",
      "Epoch [8/100], Training CE Loss: 0.00000000\n",
      "Epoch [8/100], Validation CE Loss: 0.00000000\n",
      "Epoch [8/100], Training MSE Loss: 0.00942752\n",
      "Epoch [8/100], Validation MSE Loss: 0.00923648\n",
      "Epoch [8/100], Training Loss Comp: 0.00942752\n",
      "Epoch [8/100], Validation Loss Comp: 0.00923648\n",
      "Epoch [8/100]: Learning Rate = [0.0001]\n",
      "\n"
     ]
    },
    {
     "name": "stderr",
     "output_type": "stream",
     "text": [
      "Epoch [9/100], Training Progress:   3%|▎         | 9/356 [00:00<00:04, 83.15it/s]"
     ]
    },
    {
     "name": "stdout",
     "output_type": "stream",
     "text": [
      "train progress: \n",
      "Epoch [9/100], Training Progress:   0%|          | 0/356 [00:00<?, ?it/s]\n"
     ]
    },
    {
     "name": "stderr",
     "output_type": "stream",
     "text": [
      "Epoch [9/100], Training Progress: 100%|██████████| 356/356 [00:03<00:00, 103.74it/s]\n",
      "Epoch [9/100], Validation Progress: 100%|██████████| 76/76 [00:00<00:00, 145.89it/s]\n"
     ]
    },
    {
     "name": "stdout",
     "output_type": "stream",
     "text": [
      "Epoch [9/100], Training Loss: 0.00894443\n",
      "Epoch [9/100], Validation Loss: 0.00875726\n",
      "Epoch [9/100], Training CE Loss: 0.00000000\n",
      "Epoch [9/100], Validation CE Loss: 0.00000000\n",
      "Epoch [9/100], Training MSE Loss: 0.00894443\n",
      "Epoch [9/100], Validation MSE Loss: 0.00875726\n",
      "Epoch [9/100], Training Loss Comp: 0.00894443\n",
      "Epoch [9/100], Validation Loss Comp: 0.00875726\n",
      "Epoch [9/100]: Learning Rate = [0.0001]\n",
      "\n"
     ]
    },
    {
     "name": "stderr",
     "output_type": "stream",
     "text": [
      "Epoch [10/100], Training Progress:   6%|▌         | 21/356 [00:00<00:03, 102.16it/s]"
     ]
    },
    {
     "name": "stdout",
     "output_type": "stream",
     "text": [
      "train progress: \n",
      "Epoch [10/100], Training Progress:   0%|          | 0/356 [00:00<?, ?it/s]\n"
     ]
    },
    {
     "name": "stderr",
     "output_type": "stream",
     "text": [
      "Epoch [10/100], Training Progress: 100%|██████████| 356/356 [00:03<00:00, 100.97it/s]\n",
      "Epoch [10/100], Validation Progress: 100%|██████████| 76/76 [00:00<00:00, 145.97it/s]\n"
     ]
    },
    {
     "name": "stdout",
     "output_type": "stream",
     "text": [
      "Epoch [10/100], Training Loss: 0.00861083\n",
      "Epoch [10/100], Validation Loss: 0.00839778\n",
      "Epoch [10/100], Training CE Loss: 0.00000000\n",
      "Epoch [10/100], Validation CE Loss: 0.00000000\n",
      "Epoch [10/100], Training MSE Loss: 0.00861083\n",
      "Epoch [10/100], Validation MSE Loss: 0.00839778\n",
      "Epoch [10/100], Training Loss Comp: 0.00861083\n",
      "Epoch [10/100], Validation Loss Comp: 0.00839778\n",
      "Epoch [10/100]: Learning Rate = [0.0001]\n",
      "\n"
     ]
    },
    {
     "name": "stderr",
     "output_type": "stream",
     "text": [
      "Epoch [11/100], Training Progress:   6%|▌         | 21/356 [00:00<00:03, 101.21it/s]"
     ]
    },
    {
     "name": "stdout",
     "output_type": "stream",
     "text": [
      "train progress: \n",
      "Epoch [11/100], Training Progress:   0%|          | 0/356 [00:00<?, ?it/s]\n"
     ]
    },
    {
     "name": "stderr",
     "output_type": "stream",
     "text": [
      "Epoch [11/100], Training Progress: 100%|██████████| 356/356 [00:03<00:00, 104.44it/s]\n",
      "Epoch [11/100], Validation Progress: 100%|██████████| 76/76 [00:00<00:00, 145.35it/s]\n"
     ]
    },
    {
     "name": "stdout",
     "output_type": "stream",
     "text": [
      "Epoch [11/100], Training Loss: 0.00787524\n",
      "Epoch [11/100], Validation Loss: 0.00801688\n",
      "Epoch [11/100], Training CE Loss: 0.00000000\n",
      "Epoch [11/100], Validation CE Loss: 0.00000000\n",
      "Epoch [11/100], Training MSE Loss: 0.00787524\n",
      "Epoch [11/100], Validation MSE Loss: 0.00801688\n",
      "Epoch [11/100], Training Loss Comp: 0.00787524\n",
      "Epoch [11/100], Validation Loss Comp: 0.00801688\n",
      "Epoch [11/100]: Learning Rate = [0.0001]\n",
      "\n"
     ]
    },
    {
     "name": "stderr",
     "output_type": "stream",
     "text": [
      "Epoch [12/100], Training Progress:   3%|▎         | 10/356 [00:00<00:03, 99.24it/s]"
     ]
    },
    {
     "name": "stdout",
     "output_type": "stream",
     "text": [
      "train progress: \n",
      "Epoch [12/100], Training Progress:   0%|          | 0/356 [00:00<?, ?it/s]\n"
     ]
    },
    {
     "name": "stderr",
     "output_type": "stream",
     "text": [
      "Epoch [12/100], Training Progress: 100%|██████████| 356/356 [00:03<00:00, 104.67it/s]\n",
      "Epoch [12/100], Validation Progress: 100%|██████████| 76/76 [00:00<00:00, 146.65it/s]\n"
     ]
    },
    {
     "name": "stdout",
     "output_type": "stream",
     "text": [
      "Epoch [12/100], Training Loss: 0.00763948\n",
      "Epoch [12/100], Validation Loss: 0.00760670\n",
      "Epoch [12/100], Training CE Loss: 0.00000000\n",
      "Epoch [12/100], Validation CE Loss: 0.00000000\n",
      "Epoch [12/100], Training MSE Loss: 0.00763948\n",
      "Epoch [12/100], Validation MSE Loss: 0.00760670\n",
      "Epoch [12/100], Training Loss Comp: 0.00763948\n",
      "Epoch [12/100], Validation Loss Comp: 0.00760670\n",
      "Epoch [12/100]: Learning Rate = [0.0001]\n",
      "\n"
     ]
    },
    {
     "name": "stderr",
     "output_type": "stream",
     "text": [
      "Epoch [13/100], Training Progress:   3%|▎         | 10/356 [00:00<00:03, 91.48it/s]"
     ]
    },
    {
     "name": "stdout",
     "output_type": "stream",
     "text": [
      "train progress: \n",
      "Epoch [13/100], Training Progress:   0%|          | 0/356 [00:00<?, ?it/s]\n"
     ]
    },
    {
     "name": "stderr",
     "output_type": "stream",
     "text": [
      "Epoch [13/100], Training Progress: 100%|██████████| 356/356 [00:03<00:00, 101.54it/s]\n",
      "Epoch [13/100], Validation Progress: 100%|██████████| 76/76 [00:00<00:00, 146.80it/s]\n"
     ]
    },
    {
     "name": "stdout",
     "output_type": "stream",
     "text": [
      "Epoch [13/100], Training Loss: 0.00740729\n",
      "Epoch [13/100], Validation Loss: 0.00730327\n",
      "Epoch [13/100], Training CE Loss: 0.00000000\n",
      "Epoch [13/100], Validation CE Loss: 0.00000000\n",
      "Epoch [13/100], Training MSE Loss: 0.00740729\n",
      "Epoch [13/100], Validation MSE Loss: 0.00730327\n",
      "Epoch [13/100], Training Loss Comp: 0.00740729\n",
      "Epoch [13/100], Validation Loss Comp: 0.00730327\n",
      "Epoch [13/100]: Learning Rate = [0.0001]\n",
      "\n"
     ]
    },
    {
     "name": "stderr",
     "output_type": "stream",
     "text": [
      "Epoch [14/100], Training Progress:   2%|▏         | 7/356 [00:00<00:05, 69.76it/s]"
     ]
    },
    {
     "name": "stdout",
     "output_type": "stream",
     "text": [
      "train progress: \n",
      "Epoch [14/100], Training Progress:   0%|          | 0/356 [00:00<?, ?it/s]\n"
     ]
    },
    {
     "name": "stderr",
     "output_type": "stream",
     "text": [
      "Epoch [14/100], Training Progress: 100%|██████████| 356/356 [00:03<00:00, 93.10it/s] \n",
      "Epoch [14/100], Validation Progress: 100%|██████████| 76/76 [00:00<00:00, 135.22it/s]\n"
     ]
    },
    {
     "name": "stdout",
     "output_type": "stream",
     "text": [
      "Epoch [14/100], Training Loss: 0.00714667\n",
      "Epoch [14/100], Validation Loss: 0.00712396\n",
      "Epoch [14/100], Training CE Loss: 0.00000000\n",
      "Epoch [14/100], Validation CE Loss: 0.00000000\n",
      "Epoch [14/100], Training MSE Loss: 0.00714667\n",
      "Epoch [14/100], Validation MSE Loss: 0.00712396\n",
      "Epoch [14/100], Training Loss Comp: 0.00714667\n",
      "Epoch [14/100], Validation Loss Comp: 0.00712396\n",
      "Epoch [14/100]: Learning Rate = [0.0001]\n",
      "\n"
     ]
    },
    {
     "name": "stderr",
     "output_type": "stream",
     "text": [
      "Epoch [15/100], Training Progress:   3%|▎         | 10/356 [00:00<00:03, 93.66it/s]"
     ]
    },
    {
     "name": "stdout",
     "output_type": "stream",
     "text": [
      "train progress: \n",
      "Epoch [15/100], Training Progress:   0%|          | 0/356 [00:00<?, ?it/s]\n"
     ]
    },
    {
     "name": "stderr",
     "output_type": "stream",
     "text": [
      "Epoch [15/100], Training Progress: 100%|██████████| 356/356 [00:03<00:00, 103.80it/s]\n",
      "Epoch [15/100], Validation Progress: 100%|██████████| 76/76 [00:00<00:00, 147.62it/s]\n"
     ]
    },
    {
     "name": "stdout",
     "output_type": "stream",
     "text": [
      "Epoch [15/100], Training Loss: 0.00687499\n",
      "Epoch [15/100], Validation Loss: 0.00679410\n",
      "Epoch [15/100], Training CE Loss: 0.00000000\n",
      "Epoch [15/100], Validation CE Loss: 0.00000000\n",
      "Epoch [15/100], Training MSE Loss: 0.00687499\n",
      "Epoch [15/100], Validation MSE Loss: 0.00679410\n",
      "Epoch [15/100], Training Loss Comp: 0.00687499\n",
      "Epoch [15/100], Validation Loss Comp: 0.00679410\n",
      "Epoch [15/100]: Learning Rate = [0.0001]\n",
      "\n"
     ]
    },
    {
     "name": "stderr",
     "output_type": "stream",
     "text": [
      "Epoch [16/100], Training Progress:   3%|▎         | 11/356 [00:00<00:03, 102.56it/s]"
     ]
    },
    {
     "name": "stdout",
     "output_type": "stream",
     "text": [
      "train progress: \n",
      "Epoch [16/100], Training Progress:   0%|          | 0/356 [00:00<?, ?it/s]\n"
     ]
    },
    {
     "name": "stderr",
     "output_type": "stream",
     "text": [
      "Epoch [16/100], Training Progress: 100%|██████████| 356/356 [00:03<00:00, 101.39it/s]\n",
      "Epoch [16/100], Validation Progress: 100%|██████████| 76/76 [00:00<00:00, 129.65it/s]\n"
     ]
    },
    {
     "name": "stdout",
     "output_type": "stream",
     "text": [
      "Epoch [16/100], Training Loss: 0.00656602\n",
      "Epoch [16/100], Validation Loss: 0.00671933\n",
      "Epoch [16/100], Training CE Loss: 0.00000000\n",
      "Epoch [16/100], Validation CE Loss: 0.00000000\n",
      "Epoch [16/100], Training MSE Loss: 0.00656602\n",
      "Epoch [16/100], Validation MSE Loss: 0.00671933\n",
      "Epoch [16/100], Training Loss Comp: 0.00656602\n",
      "Epoch [16/100], Validation Loss Comp: 0.00671933\n",
      "Epoch [16/100]: Learning Rate = [0.0001]\n",
      "\n"
     ]
    },
    {
     "name": "stderr",
     "output_type": "stream",
     "text": [
      "Epoch [17/100], Training Progress:   3%|▎         | 11/356 [00:00<00:03, 100.67it/s]"
     ]
    },
    {
     "name": "stdout",
     "output_type": "stream",
     "text": [
      "train progress: \n",
      "Epoch [17/100], Training Progress:   0%|          | 0/356 [00:00<?, ?it/s]\n"
     ]
    },
    {
     "name": "stderr",
     "output_type": "stream",
     "text": [
      "Epoch [17/100], Training Progress: 100%|██████████| 356/356 [00:03<00:00, 105.18it/s]\n",
      "Epoch [17/100], Validation Progress: 100%|██████████| 76/76 [00:00<00:00, 147.64it/s]\n"
     ]
    },
    {
     "name": "stdout",
     "output_type": "stream",
     "text": [
      "Epoch [17/100], Training Loss: 0.00642801\n",
      "Epoch [17/100], Validation Loss: 0.00658914\n",
      "Epoch [17/100], Training CE Loss: 0.00000000\n",
      "Epoch [17/100], Validation CE Loss: 0.00000000\n",
      "Epoch [17/100], Training MSE Loss: 0.00642801\n",
      "Epoch [17/100], Validation MSE Loss: 0.00658914\n",
      "Epoch [17/100], Training Loss Comp: 0.00642801\n",
      "Epoch [17/100], Validation Loss Comp: 0.00658914\n",
      "Epoch [17/100]: Learning Rate = [0.0001]\n",
      "\n"
     ]
    },
    {
     "name": "stderr",
     "output_type": "stream",
     "text": [
      "Epoch [18/100], Training Progress:   3%|▎         | 10/356 [00:00<00:03, 98.56it/s]"
     ]
    },
    {
     "name": "stdout",
     "output_type": "stream",
     "text": [
      "train progress: \n",
      "Epoch [18/100], Training Progress:   0%|          | 0/356 [00:00<?, ?it/s]\n"
     ]
    },
    {
     "name": "stderr",
     "output_type": "stream",
     "text": [
      "Epoch [18/100], Training Progress: 100%|██████████| 356/356 [00:03<00:00, 103.74it/s]\n",
      "Epoch [18/100], Validation Progress: 100%|██████████| 76/76 [00:00<00:00, 146.67it/s]\n"
     ]
    },
    {
     "name": "stdout",
     "output_type": "stream",
     "text": [
      "Epoch [18/100], Training Loss: 0.00626455\n",
      "Epoch [18/100], Validation Loss: 0.00656149\n",
      "Epoch [18/100], Training CE Loss: 0.00000000\n",
      "Epoch [18/100], Validation CE Loss: 0.00000000\n",
      "Epoch [18/100], Training MSE Loss: 0.00626455\n",
      "Epoch [18/100], Validation MSE Loss: 0.00656149\n",
      "Epoch [18/100], Training Loss Comp: 0.00626455\n",
      "Epoch [18/100], Validation Loss Comp: 0.00656149\n",
      "Epoch [18/100]: Learning Rate = [0.0001]\n",
      "\n"
     ]
    },
    {
     "name": "stderr",
     "output_type": "stream",
     "text": [
      "Epoch [19/100], Training Progress:   3%|▎         | 10/356 [00:00<00:03, 90.23it/s]"
     ]
    },
    {
     "name": "stdout",
     "output_type": "stream",
     "text": [
      "train progress: \n",
      "Epoch [19/100], Training Progress:   0%|          | 0/356 [00:00<?, ?it/s]\n"
     ]
    },
    {
     "name": "stderr",
     "output_type": "stream",
     "text": [
      "Epoch [19/100], Training Progress: 100%|██████████| 356/356 [00:03<00:00, 101.08it/s]\n",
      "Epoch [19/100], Validation Progress: 100%|██████████| 76/76 [00:00<00:00, 148.27it/s]\n"
     ]
    },
    {
     "name": "stdout",
     "output_type": "stream",
     "text": [
      "Epoch [19/100], Training Loss: 0.00619264\n",
      "Epoch [19/100], Validation Loss: 0.00603334\n",
      "Epoch [19/100], Training CE Loss: 0.00000000\n",
      "Epoch [19/100], Validation CE Loss: 0.00000000\n",
      "Epoch [19/100], Training MSE Loss: 0.00619264\n",
      "Epoch [19/100], Validation MSE Loss: 0.00603334\n",
      "Epoch [19/100], Training Loss Comp: 0.00619264\n",
      "Epoch [19/100], Validation Loss Comp: 0.00603334\n",
      "Epoch [19/100]: Learning Rate = [0.0001]\n",
      "\n"
     ]
    },
    {
     "name": "stderr",
     "output_type": "stream",
     "text": [
      "Epoch [20/100], Training Progress:   5%|▌         | 18/356 [00:00<00:03, 91.45it/s]"
     ]
    },
    {
     "name": "stdout",
     "output_type": "stream",
     "text": [
      "train progress: \n",
      "Epoch [20/100], Training Progress:   0%|          | 0/356 [00:00<?, ?it/s]\n"
     ]
    },
    {
     "name": "stderr",
     "output_type": "stream",
     "text": [
      "Epoch [20/100], Training Progress: 100%|██████████| 356/356 [00:03<00:00, 104.05it/s]\n",
      "Epoch [20/100], Validation Progress: 100%|██████████| 76/76 [00:00<00:00, 148.38it/s]\n"
     ]
    },
    {
     "name": "stdout",
     "output_type": "stream",
     "text": [
      "Epoch [20/100], Training Loss: 0.00601095\n",
      "Epoch [20/100], Validation Loss: 0.00610895\n",
      "Epoch [20/100], Training CE Loss: 0.00000000\n",
      "Epoch [20/100], Validation CE Loss: 0.00000000\n",
      "Epoch [20/100], Training MSE Loss: 0.00601095\n",
      "Epoch [20/100], Validation MSE Loss: 0.00610895\n",
      "Epoch [20/100], Training Loss Comp: 0.00601095\n",
      "Epoch [20/100], Validation Loss Comp: 0.00610895\n",
      "Epoch [20/100]: Learning Rate = [0.0001]\n",
      "\n"
     ]
    },
    {
     "name": "stderr",
     "output_type": "stream",
     "text": [
      "Epoch [21/100], Training Progress:   3%|▎         | 11/356 [00:00<00:03, 101.07it/s]"
     ]
    },
    {
     "name": "stdout",
     "output_type": "stream",
     "text": [
      "train progress: \n",
      "Epoch [21/100], Training Progress:   0%|          | 0/356 [00:00<?, ?it/s]\n"
     ]
    },
    {
     "name": "stderr",
     "output_type": "stream",
     "text": [
      "Epoch [21/100], Training Progress: 100%|██████████| 356/356 [00:03<00:00, 104.63it/s]\n",
      "Epoch [21/100], Validation Progress: 100%|██████████| 76/76 [00:00<00:00, 142.75it/s]\n"
     ]
    },
    {
     "name": "stdout",
     "output_type": "stream",
     "text": [
      "Epoch [21/100], Training Loss: 0.00588325\n",
      "Epoch [21/100], Validation Loss: 0.00623595\n",
      "Epoch [21/100], Training CE Loss: 0.00000000\n",
      "Epoch [21/100], Validation CE Loss: 0.00000000\n",
      "Epoch [21/100], Training MSE Loss: 0.00588325\n",
      "Epoch [21/100], Validation MSE Loss: 0.00623595\n",
      "Epoch [21/100], Training Loss Comp: 0.00588325\n",
      "Epoch [21/100], Validation Loss Comp: 0.00623595\n",
      "Epoch [21/100]: Learning Rate = [0.0001]\n",
      "\n"
     ]
    },
    {
     "name": "stderr",
     "output_type": "stream",
     "text": [
      "Epoch [22/100], Training Progress:   3%|▎         | 11/356 [00:00<00:03, 101.54it/s]"
     ]
    },
    {
     "name": "stdout",
     "output_type": "stream",
     "text": [
      "train progress: \n",
      "Epoch [22/100], Training Progress:   0%|          | 0/356 [00:00<?, ?it/s]\n"
     ]
    },
    {
     "name": "stderr",
     "output_type": "stream",
     "text": [
      "Epoch [22/100], Training Progress: 100%|██████████| 356/356 [00:03<00:00, 101.43it/s]\n",
      "Epoch [22/100], Validation Progress: 100%|██████████| 76/76 [00:00<00:00, 147.09it/s]\n"
     ]
    },
    {
     "name": "stdout",
     "output_type": "stream",
     "text": [
      "Epoch [22/100], Training Loss: 0.00580468\n",
      "Epoch [22/100], Validation Loss: 0.00598990\n",
      "Epoch [22/100], Training CE Loss: 0.00000000\n",
      "Epoch [22/100], Validation CE Loss: 0.00000000\n",
      "Epoch [22/100], Training MSE Loss: 0.00580468\n",
      "Epoch [22/100], Validation MSE Loss: 0.00598990\n",
      "Epoch [22/100], Training Loss Comp: 0.00580468\n",
      "Epoch [22/100], Validation Loss Comp: 0.00598990\n",
      "Epoch [22/100]: Learning Rate = [0.0001]\n",
      "\n"
     ]
    },
    {
     "name": "stderr",
     "output_type": "stream",
     "text": [
      "Epoch [23/100], Training Progress:   6%|▌         | 22/356 [00:00<00:03, 105.96it/s]"
     ]
    },
    {
     "name": "stdout",
     "output_type": "stream",
     "text": [
      "train progress: \n",
      "Epoch [23/100], Training Progress:   0%|          | 0/356 [00:00<?, ?it/s]\n"
     ]
    },
    {
     "name": "stderr",
     "output_type": "stream",
     "text": [
      "Epoch [23/100], Training Progress: 100%|██████████| 356/356 [00:03<00:00, 104.14it/s]\n",
      "Epoch [23/100], Validation Progress: 100%|██████████| 76/76 [00:00<00:00, 145.98it/s]\n"
     ]
    },
    {
     "name": "stdout",
     "output_type": "stream",
     "text": [
      "Epoch [23/100], Training Loss: 0.00584594\n",
      "Epoch [23/100], Validation Loss: 0.00575757\n",
      "Epoch [23/100], Training CE Loss: 0.00000000\n",
      "Epoch [23/100], Validation CE Loss: 0.00000000\n",
      "Epoch [23/100], Training MSE Loss: 0.00584594\n",
      "Epoch [23/100], Validation MSE Loss: 0.00575757\n",
      "Epoch [23/100], Training Loss Comp: 0.00584594\n",
      "Epoch [23/100], Validation Loss Comp: 0.00575757\n",
      "Epoch [23/100]: Learning Rate = [0.0001]\n",
      "\n"
     ]
    },
    {
     "name": "stderr",
     "output_type": "stream",
     "text": [
      "Epoch [24/100], Training Progress:   3%|▎         | 10/356 [00:00<00:03, 98.25it/s]"
     ]
    },
    {
     "name": "stdout",
     "output_type": "stream",
     "text": [
      "train progress: \n",
      "Epoch [24/100], Training Progress:   0%|          | 0/356 [00:00<?, ?it/s]\n"
     ]
    },
    {
     "name": "stderr",
     "output_type": "stream",
     "text": [
      "Epoch [24/100], Training Progress: 100%|██████████| 356/356 [00:03<00:00, 105.46it/s]\n",
      "Epoch [24/100], Validation Progress: 100%|██████████| 76/76 [00:00<00:00, 147.98it/s]\n"
     ]
    },
    {
     "name": "stdout",
     "output_type": "stream",
     "text": [
      "Epoch [24/100], Training Loss: 0.00565624\n",
      "Epoch [24/100], Validation Loss: 0.00577244\n",
      "Epoch [24/100], Training CE Loss: 0.00000000\n",
      "Epoch [24/100], Validation CE Loss: 0.00000000\n",
      "Epoch [24/100], Training MSE Loss: 0.00565624\n",
      "Epoch [24/100], Validation MSE Loss: 0.00577244\n",
      "Epoch [24/100], Training Loss Comp: 0.00565624\n",
      "Epoch [24/100], Validation Loss Comp: 0.00577244\n",
      "Epoch [24/100]: Learning Rate = [0.0001]\n",
      "\n"
     ]
    },
    {
     "name": "stderr",
     "output_type": "stream",
     "text": [
      "Epoch [25/100], Training Progress:   6%|▌         | 22/356 [00:00<00:03, 105.22it/s]"
     ]
    },
    {
     "name": "stdout",
     "output_type": "stream",
     "text": [
      "train progress: \n",
      "Epoch [25/100], Training Progress:   0%|          | 0/356 [00:00<?, ?it/s]\n"
     ]
    },
    {
     "name": "stderr",
     "output_type": "stream",
     "text": [
      "Epoch [25/100], Training Progress: 100%|██████████| 356/356 [00:03<00:00, 101.92it/s]\n",
      "Epoch [25/100], Validation Progress: 100%|██████████| 76/76 [00:00<00:00, 148.33it/s]\n"
     ]
    },
    {
     "name": "stdout",
     "output_type": "stream",
     "text": [
      "Epoch [25/100], Training Loss: 0.00556900\n",
      "Epoch [25/100], Validation Loss: 0.00553581\n",
      "Epoch [25/100], Training CE Loss: 0.00000000\n",
      "Epoch [25/100], Validation CE Loss: 0.00000000\n",
      "Epoch [25/100], Training MSE Loss: 0.00556900\n",
      "Epoch [25/100], Validation MSE Loss: 0.00553581\n",
      "Epoch [25/100], Training Loss Comp: 0.00556900\n",
      "Epoch [25/100], Validation Loss Comp: 0.00553581\n",
      "Epoch [25/100]: Learning Rate = [1e-05]\n",
      "\n"
     ]
    },
    {
     "name": "stderr",
     "output_type": "stream",
     "text": [
      "Epoch [26/100], Training Progress:   6%|▌         | 21/356 [00:00<00:03, 103.01it/s]"
     ]
    },
    {
     "name": "stdout",
     "output_type": "stream",
     "text": [
      "train progress: \n",
      "Epoch [26/100], Training Progress:   0%|          | 0/356 [00:00<?, ?it/s]\n"
     ]
    },
    {
     "name": "stderr",
     "output_type": "stream",
     "text": [
      "Epoch [26/100], Training Progress: 100%|██████████| 356/356 [00:03<00:00, 104.83it/s]\n",
      "Epoch [26/100], Validation Progress: 100%|██████████| 76/76 [00:00<00:00, 149.44it/s]\n"
     ]
    },
    {
     "name": "stdout",
     "output_type": "stream",
     "text": [
      "Epoch [26/100], Training Loss: 0.00544678\n",
      "Epoch [26/100], Validation Loss: 0.00556527\n",
      "Epoch [26/100], Training CE Loss: 0.00000000\n",
      "Epoch [26/100], Validation CE Loss: 0.00000000\n",
      "Epoch [26/100], Training MSE Loss: 0.00544678\n",
      "Epoch [26/100], Validation MSE Loss: 0.00556527\n",
      "Epoch [26/100], Training Loss Comp: 0.00544678\n",
      "Epoch [26/100], Validation Loss Comp: 0.00556527\n",
      "Epoch [26/100]: Learning Rate = [1e-05]\n",
      "\n"
     ]
    },
    {
     "name": "stderr",
     "output_type": "stream",
     "text": [
      "Epoch [27/100], Training Progress:   6%|▌         | 20/356 [00:00<00:03, 99.43it/s]"
     ]
    },
    {
     "name": "stdout",
     "output_type": "stream",
     "text": [
      "train progress: \n",
      "Epoch [27/100], Training Progress:   0%|          | 0/356 [00:00<?, ?it/s]\n"
     ]
    },
    {
     "name": "stderr",
     "output_type": "stream",
     "text": [
      "Epoch [27/100], Training Progress: 100%|██████████| 356/356 [00:03<00:00, 105.05it/s]\n",
      "Epoch [27/100], Validation Progress: 100%|██████████| 76/76 [00:00<00:00, 146.81it/s]\n"
     ]
    },
    {
     "name": "stdout",
     "output_type": "stream",
     "text": [
      "Epoch [27/100], Training Loss: 0.00550940\n",
      "Epoch [27/100], Validation Loss: 0.00551050\n",
      "Epoch [27/100], Training CE Loss: 0.00000000\n",
      "Epoch [27/100], Validation CE Loss: 0.00000000\n",
      "Epoch [27/100], Training MSE Loss: 0.00550940\n",
      "Epoch [27/100], Validation MSE Loss: 0.00551050\n",
      "Epoch [27/100], Training Loss Comp: 0.00550940\n",
      "Epoch [27/100], Validation Loss Comp: 0.00551050\n",
      "Epoch [27/100]: Learning Rate = [1e-05]\n",
      "\n"
     ]
    },
    {
     "name": "stderr",
     "output_type": "stream",
     "text": [
      "Epoch [28/100], Training Progress:   1%|          | 3/356 [00:00<00:13, 26.11it/s]"
     ]
    },
    {
     "name": "stdout",
     "output_type": "stream",
     "text": [
      "train progress: \n",
      "Epoch [28/100], Training Progress:   0%|          | 0/356 [00:00<?, ?it/s]\n"
     ]
    },
    {
     "name": "stderr",
     "output_type": "stream",
     "text": [
      "Epoch [28/100], Training Progress: 100%|██████████| 356/356 [00:03<00:00, 99.71it/s] \n",
      "Epoch [28/100], Validation Progress: 100%|██████████| 76/76 [00:00<00:00, 143.53it/s]\n"
     ]
    },
    {
     "name": "stdout",
     "output_type": "stream",
     "text": [
      "Epoch [28/100], Training Loss: 0.00547249\n",
      "Epoch [28/100], Validation Loss: 0.00553967\n",
      "Epoch [28/100], Training CE Loss: 0.00000000\n",
      "Epoch [28/100], Validation CE Loss: 0.00000000\n",
      "Epoch [28/100], Training MSE Loss: 0.00547249\n",
      "Epoch [28/100], Validation MSE Loss: 0.00553967\n",
      "Epoch [28/100], Training Loss Comp: 0.00547249\n",
      "Epoch [28/100], Validation Loss Comp: 0.00553967\n",
      "Epoch [28/100]: Learning Rate = [1e-05]\n",
      "\n"
     ]
    },
    {
     "name": "stderr",
     "output_type": "stream",
     "text": [
      "Epoch [29/100], Training Progress:   3%|▎         | 10/356 [00:00<00:03, 96.37it/s]"
     ]
    },
    {
     "name": "stdout",
     "output_type": "stream",
     "text": [
      "train progress: \n",
      "Epoch [29/100], Training Progress:   0%|          | 0/356 [00:00<?, ?it/s]\n"
     ]
    },
    {
     "name": "stderr",
     "output_type": "stream",
     "text": [
      "Epoch [29/100], Training Progress: 100%|██████████| 356/356 [00:03<00:00, 105.00it/s]\n",
      "Epoch [29/100], Validation Progress: 100%|██████████| 76/76 [00:00<00:00, 147.81it/s]\n"
     ]
    },
    {
     "name": "stdout",
     "output_type": "stream",
     "text": [
      "Epoch [29/100], Training Loss: 0.00544503\n",
      "Epoch [29/100], Validation Loss: 0.00560146\n",
      "Epoch [29/100], Training CE Loss: 0.00000000\n",
      "Epoch [29/100], Validation CE Loss: 0.00000000\n",
      "Epoch [29/100], Training MSE Loss: 0.00544503\n",
      "Epoch [29/100], Validation MSE Loss: 0.00560146\n",
      "Epoch [29/100], Training Loss Comp: 0.00544503\n",
      "Epoch [29/100], Validation Loss Comp: 0.00560146\n",
      "Epoch [29/100]: Learning Rate = [1e-05]\n",
      "\n"
     ]
    },
    {
     "name": "stderr",
     "output_type": "stream",
     "text": [
      "Epoch [30/100], Training Progress:   2%|▏         | 7/356 [00:00<00:05, 66.18it/s]"
     ]
    },
    {
     "name": "stdout",
     "output_type": "stream",
     "text": [
      "train progress: \n",
      "Epoch [30/100], Training Progress:   0%|          | 0/356 [00:00<?, ?it/s]\n"
     ]
    },
    {
     "name": "stderr",
     "output_type": "stream",
     "text": [
      "Epoch [30/100], Training Progress: 100%|██████████| 356/356 [00:03<00:00, 103.65it/s]\n",
      "Epoch [30/100], Validation Progress: 100%|██████████| 76/76 [00:00<00:00, 124.43it/s]\n"
     ]
    },
    {
     "name": "stdout",
     "output_type": "stream",
     "text": [
      "Epoch [30/100], Training Loss: 0.00539916\n",
      "Epoch [30/100], Validation Loss: 0.00560338\n",
      "Epoch [30/100], Training CE Loss: 0.00000000\n",
      "Epoch [30/100], Validation CE Loss: 0.00000000\n",
      "Epoch [30/100], Training MSE Loss: 0.00539916\n",
      "Epoch [30/100], Validation MSE Loss: 0.00560338\n",
      "Epoch [30/100], Training Loss Comp: 0.00539916\n",
      "Epoch [30/100], Validation Loss Comp: 0.00560338\n",
      "Epoch [30/100]: Learning Rate = [1e-05]\n",
      "\n"
     ]
    },
    {
     "name": "stderr",
     "output_type": "stream",
     "text": [
      "Epoch [31/100], Training Progress:   3%|▎         | 9/356 [00:00<00:03, 89.30it/s]"
     ]
    },
    {
     "name": "stdout",
     "output_type": "stream",
     "text": [
      "train progress: \n",
      "Epoch [31/100], Training Progress:   0%|          | 0/356 [00:00<?, ?it/s]\n"
     ]
    },
    {
     "name": "stderr",
     "output_type": "stream",
     "text": [
      "Epoch [31/100], Training Progress: 100%|██████████| 356/356 [00:03<00:00, 104.66it/s]\n",
      "Epoch [31/100], Validation Progress: 100%|██████████| 76/76 [00:00<00:00, 146.55it/s]\n"
     ]
    },
    {
     "name": "stdout",
     "output_type": "stream",
     "text": [
      "Epoch [31/100], Training Loss: 0.00533567\n",
      "Epoch [31/100], Validation Loss: 0.00551923\n",
      "Epoch [31/100], Training CE Loss: 0.00000000\n",
      "Epoch [31/100], Validation CE Loss: 0.00000000\n",
      "Epoch [31/100], Training MSE Loss: 0.00533567\n",
      "Epoch [31/100], Validation MSE Loss: 0.00551923\n",
      "Epoch [31/100], Training Loss Comp: 0.00533567\n",
      "Epoch [31/100], Validation Loss Comp: 0.00551923\n",
      "Epoch [31/100]: Learning Rate = [1e-05]\n",
      "\n"
     ]
    },
    {
     "name": "stderr",
     "output_type": "stream",
     "text": [
      "Epoch [32/100], Training Progress:   3%|▎         | 10/356 [00:00<00:03, 98.19it/s]"
     ]
    },
    {
     "name": "stdout",
     "output_type": "stream",
     "text": [
      "train progress: \n",
      "Epoch [32/100], Training Progress:   0%|          | 0/356 [00:00<?, ?it/s]\n"
     ]
    },
    {
     "name": "stderr",
     "output_type": "stream",
     "text": [
      "Epoch [32/100], Training Progress: 100%|██████████| 356/356 [00:03<00:00, 102.89it/s]\n",
      "Epoch [32/100], Validation Progress: 100%|██████████| 76/76 [00:00<00:00, 146.36it/s]\n"
     ]
    },
    {
     "name": "stdout",
     "output_type": "stream",
     "text": [
      "Epoch [32/100], Training Loss: 0.00530529\n",
      "Epoch [32/100], Validation Loss: 0.00556034\n",
      "Epoch [32/100], Training CE Loss: 0.00000000\n",
      "Epoch [32/100], Validation CE Loss: 0.00000000\n",
      "Epoch [32/100], Training MSE Loss: 0.00530529\n",
      "Epoch [32/100], Validation MSE Loss: 0.00556034\n",
      "Epoch [32/100], Training Loss Comp: 0.00530529\n",
      "Epoch [32/100], Validation Loss Comp: 0.00556034\n",
      "Epoch [32/100]: Learning Rate = [1e-05]\n",
      "\n"
     ]
    },
    {
     "name": "stderr",
     "output_type": "stream",
     "text": [
      "Epoch [33/100], Training Progress:   6%|▌         | 21/356 [00:00<00:03, 103.28it/s]"
     ]
    },
    {
     "name": "stdout",
     "output_type": "stream",
     "text": [
      "train progress: \n",
      "Epoch [33/100], Training Progress:   0%|          | 0/356 [00:00<?, ?it/s]\n"
     ]
    },
    {
     "name": "stderr",
     "output_type": "stream",
     "text": [
      "Epoch [33/100], Training Progress: 100%|██████████| 356/356 [00:03<00:00, 103.83it/s]\n",
      "Epoch [33/100], Validation Progress: 100%|██████████| 76/76 [00:00<00:00, 125.79it/s]"
     ]
    },
    {
     "name": "stdout",
     "output_type": "stream",
     "text": [
      "Epoch [33/100], Training Loss: 0.00535268\n",
      "Epoch [33/100], Validation Loss: 0.00570360\n",
      "Epoch [33/100], Training CE Loss: 0.00000000\n",
      "Epoch [33/100], Validation CE Loss: 0.00000000\n",
      "Epoch [33/100], Training MSE Loss: 0.00535268\n",
      "Epoch [33/100], Validation MSE Loss: 0.00570360\n",
      "Epoch [33/100], Training Loss Comp: 0.00535268\n",
      "Epoch [33/100], Validation Loss Comp: 0.00570360\n",
      "Epoch [33/100]: Learning Rate = [1e-05]\n",
      "\n",
      "Early stopping triggered. Stopping training.\n"
     ]
    },
    {
     "name": "stderr",
     "output_type": "stream",
     "text": [
      "\n"
     ]
    }
   ],
   "source": [
    "mae_autoencoder.train_model(\n",
    "      patience=10,\n",
    "      num_epochs=100,\n",
    "      batch_size=batch_size,\n",
    "      train_loader=train_loader_mae,\n",
    "      val_loader=val_loader_mae,\n",
    "      continous_columns=continous_columns, \n",
    "      categorical_columns=[], \n",
    "      categories=categories,\n",
    "      device=device,\n",
    "      wlc=wlc)"
   ]
  },
  {
   "cell_type": "code",
   "execution_count": 11,
   "metadata": {},
   "outputs": [],
   "source": [
    "# mae_autoencoder.save(\"local\",\"MAE\")"
   ]
  },
  {
   "cell_type": "code",
   "execution_count": 12,
   "metadata": {},
   "outputs": [],
   "source": [
    "# mae_autoencoder.load(\"local\",\"MAE\")"
   ]
  },
  {
   "cell_type": "code",
   "execution_count": 13,
   "metadata": {},
   "outputs": [
    {
     "name": "stderr",
     "output_type": "stream",
     "text": [
      "Clean progress:   0%|          | 0/76 [00:00<?, ?it/s]"
     ]
    },
    {
     "name": "stderr",
     "output_type": "stream",
     "text": [
      "Clean progress: 100%|██████████| 76/76 [00:00<00:00, 81.66it/s]"
     ]
    },
    {
     "name": "stdout",
     "output_type": "stream",
     "text": [
      "\n",
      "MAE: 0.04055763\n",
      "\n",
      "MSE: 0.00629703\n"
     ]
    },
    {
     "name": "stderr",
     "output_type": "stream",
     "text": [
      "\n"
     ]
    }
   ],
   "source": [
    "# pass in the attributes: \"mean\", \"median\", or \"distribution_based\" to the 'method' attribute to fill in the nan values using these methods, \n",
    "# or leave the 'methods' attribute empty and pass in the list to the 'MAE_pack' to fill the values using the Masked Auto Encoder method \n",
    "X_dirty = preprocessor.transform(input_df=X_dirty,  method=\"MAE\", MAE_pack=[mae_autoencoder, batch_size, device, custom_collate_fn, test_loader_mae]) "
   ]
  },
  {
   "cell_type": "code",
   "execution_count": 18,
   "metadata": {},
   "outputs": [
    {
     "data": {
      "text/html": [
       "<div>\n",
       "<style scoped>\n",
       "    .dataframe tbody tr th:only-of-type {\n",
       "        vertical-align: middle;\n",
       "    }\n",
       "\n",
       "    .dataframe tbody tr th {\n",
       "        vertical-align: top;\n",
       "    }\n",
       "\n",
       "    .dataframe thead th {\n",
       "        text-align: right;\n",
       "    }\n",
       "</style>\n",
       "<table border=\"1\" class=\"dataframe\">\n",
       "  <thead>\n",
       "    <tr style=\"text-align: right;\">\n",
       "      <th></th>\n",
       "      <th>age</th>\n",
       "      <th>education.num</th>\n",
       "      <th>capital.gain</th>\n",
       "      <th>capital.loss</th>\n",
       "      <th>hours.per.week</th>\n",
       "      <th>workclass_?</th>\n",
       "      <th>workclass_Federal-gov</th>\n",
       "      <th>workclass_Local-gov</th>\n",
       "      <th>workclass_Private</th>\n",
       "      <th>workclass_Self-emp-inc</th>\n",
       "      <th>...</th>\n",
       "      <th>native.country_Mexico</th>\n",
       "      <th>native.country_Nicaragua</th>\n",
       "      <th>native.country_Philippines</th>\n",
       "      <th>native.country_Poland</th>\n",
       "      <th>native.country_Puerto-Rico</th>\n",
       "      <th>native.country_South</th>\n",
       "      <th>native.country_Taiwan</th>\n",
       "      <th>native.country_Trinadad&amp;Tobago</th>\n",
       "      <th>native.country_United-States</th>\n",
       "      <th>native.country_Vietnam</th>\n",
       "    </tr>\n",
       "  </thead>\n",
       "  <tbody>\n",
       "    <tr>\n",
       "      <th>847</th>\n",
       "      <td>0.103485</td>\n",
       "      <td>0.534719</td>\n",
       "      <td>0.187809</td>\n",
       "      <td>0.114989</td>\n",
       "      <td>0.471664</td>\n",
       "      <td>0.0</td>\n",
       "      <td>0.0</td>\n",
       "      <td>0.0</td>\n",
       "      <td>1.0</td>\n",
       "      <td>0.0</td>\n",
       "      <td>...</td>\n",
       "      <td>0.0</td>\n",
       "      <td>0.0</td>\n",
       "      <td>0.0</td>\n",
       "      <td>0.0</td>\n",
       "      <td>0.0</td>\n",
       "      <td>0.0</td>\n",
       "      <td>0.0</td>\n",
       "      <td>0.0</td>\n",
       "      <td>1.0</td>\n",
       "      <td>0.0</td>\n",
       "    </tr>\n",
       "    <tr>\n",
       "      <th>739</th>\n",
       "      <td>-0.161607</td>\n",
       "      <td>0.369771</td>\n",
       "      <td>0.218976</td>\n",
       "      <td>0.170122</td>\n",
       "      <td>0.413305</td>\n",
       "      <td>1.0</td>\n",
       "      <td>0.0</td>\n",
       "      <td>0.0</td>\n",
       "      <td>0.0</td>\n",
       "      <td>0.0</td>\n",
       "      <td>...</td>\n",
       "      <td>0.0</td>\n",
       "      <td>0.0</td>\n",
       "      <td>0.0</td>\n",
       "      <td>0.0</td>\n",
       "      <td>0.0</td>\n",
       "      <td>0.0</td>\n",
       "      <td>0.0</td>\n",
       "      <td>0.0</td>\n",
       "      <td>0.0</td>\n",
       "      <td>0.0</td>\n",
       "    </tr>\n",
       "    <tr>\n",
       "      <th>274</th>\n",
       "      <td>0.071218</td>\n",
       "      <td>0.352251</td>\n",
       "      <td>0.128771</td>\n",
       "      <td>0.063953</td>\n",
       "      <td>0.375419</td>\n",
       "      <td>0.0</td>\n",
       "      <td>0.0</td>\n",
       "      <td>0.0</td>\n",
       "      <td>1.0</td>\n",
       "      <td>0.0</td>\n",
       "      <td>...</td>\n",
       "      <td>0.0</td>\n",
       "      <td>0.0</td>\n",
       "      <td>0.0</td>\n",
       "      <td>0.0</td>\n",
       "      <td>0.0</td>\n",
       "      <td>0.0</td>\n",
       "      <td>0.0</td>\n",
       "      <td>0.0</td>\n",
       "      <td>1.0</td>\n",
       "      <td>0.0</td>\n",
       "    </tr>\n",
       "    <tr>\n",
       "      <th>704</th>\n",
       "      <td>0.019593</td>\n",
       "      <td>0.064369</td>\n",
       "      <td>0.375381</td>\n",
       "      <td>0.069501</td>\n",
       "      <td>0.394139</td>\n",
       "      <td>0.0</td>\n",
       "      <td>0.0</td>\n",
       "      <td>0.0</td>\n",
       "      <td>0.0</td>\n",
       "      <td>0.0</td>\n",
       "      <td>...</td>\n",
       "      <td>0.0</td>\n",
       "      <td>0.0</td>\n",
       "      <td>0.0</td>\n",
       "      <td>0.0</td>\n",
       "      <td>0.0</td>\n",
       "      <td>0.0</td>\n",
       "      <td>0.0</td>\n",
       "      <td>0.0</td>\n",
       "      <td>0.0</td>\n",
       "      <td>0.0</td>\n",
       "    </tr>\n",
       "    <tr>\n",
       "      <th>78</th>\n",
       "      <td>-0.007432</td>\n",
       "      <td>0.231049</td>\n",
       "      <td>0.437667</td>\n",
       "      <td>-0.016125</td>\n",
       "      <td>0.366932</td>\n",
       "      <td>0.0</td>\n",
       "      <td>0.0</td>\n",
       "      <td>0.0</td>\n",
       "      <td>1.0</td>\n",
       "      <td>0.0</td>\n",
       "      <td>...</td>\n",
       "      <td>0.0</td>\n",
       "      <td>0.0</td>\n",
       "      <td>0.0</td>\n",
       "      <td>0.0</td>\n",
       "      <td>0.0</td>\n",
       "      <td>0.0</td>\n",
       "      <td>0.0</td>\n",
       "      <td>0.0</td>\n",
       "      <td>1.0</td>\n",
       "      <td>0.0</td>\n",
       "    </tr>\n",
       "    <tr>\n",
       "      <th>...</th>\n",
       "      <td>...</td>\n",
       "      <td>...</td>\n",
       "      <td>...</td>\n",
       "      <td>...</td>\n",
       "      <td>...</td>\n",
       "      <td>...</td>\n",
       "      <td>...</td>\n",
       "      <td>...</td>\n",
       "      <td>...</td>\n",
       "      <td>...</td>\n",
       "      <td>...</td>\n",
       "      <td>...</td>\n",
       "      <td>...</td>\n",
       "      <td>...</td>\n",
       "      <td>...</td>\n",
       "      <td>...</td>\n",
       "      <td>...</td>\n",
       "      <td>...</td>\n",
       "      <td>...</td>\n",
       "      <td>...</td>\n",
       "      <td>...</td>\n",
       "    </tr>\n",
       "    <tr>\n",
       "      <th>938</th>\n",
       "      <td>0.019460</td>\n",
       "      <td>-0.001403</td>\n",
       "      <td>0.331468</td>\n",
       "      <td>0.114764</td>\n",
       "      <td>0.416940</td>\n",
       "      <td>0.0</td>\n",
       "      <td>0.0</td>\n",
       "      <td>0.0</td>\n",
       "      <td>1.0</td>\n",
       "      <td>0.0</td>\n",
       "      <td>...</td>\n",
       "      <td>0.0</td>\n",
       "      <td>0.0</td>\n",
       "      <td>0.0</td>\n",
       "      <td>0.0</td>\n",
       "      <td>0.0</td>\n",
       "      <td>0.0</td>\n",
       "      <td>0.0</td>\n",
       "      <td>0.0</td>\n",
       "      <td>0.0</td>\n",
       "      <td>0.0</td>\n",
       "    </tr>\n",
       "    <tr>\n",
       "      <th>54</th>\n",
       "      <td>0.036557</td>\n",
       "      <td>0.487635</td>\n",
       "      <td>0.086724</td>\n",
       "      <td>0.169354</td>\n",
       "      <td>0.449624</td>\n",
       "      <td>0.0</td>\n",
       "      <td>0.0</td>\n",
       "      <td>0.0</td>\n",
       "      <td>1.0</td>\n",
       "      <td>0.0</td>\n",
       "      <td>...</td>\n",
       "      <td>0.0</td>\n",
       "      <td>0.0</td>\n",
       "      <td>0.0</td>\n",
       "      <td>0.0</td>\n",
       "      <td>0.0</td>\n",
       "      <td>0.0</td>\n",
       "      <td>0.0</td>\n",
       "      <td>0.0</td>\n",
       "      <td>1.0</td>\n",
       "      <td>0.0</td>\n",
       "    </tr>\n",
       "    <tr>\n",
       "      <th>584</th>\n",
       "      <td>0.019460</td>\n",
       "      <td>-0.001403</td>\n",
       "      <td>0.331468</td>\n",
       "      <td>0.114764</td>\n",
       "      <td>0.416940</td>\n",
       "      <td>0.0</td>\n",
       "      <td>0.0</td>\n",
       "      <td>0.0</td>\n",
       "      <td>0.0</td>\n",
       "      <td>0.0</td>\n",
       "      <td>...</td>\n",
       "      <td>0.0</td>\n",
       "      <td>0.0</td>\n",
       "      <td>0.0</td>\n",
       "      <td>0.0</td>\n",
       "      <td>0.0</td>\n",
       "      <td>0.0</td>\n",
       "      <td>0.0</td>\n",
       "      <td>0.0</td>\n",
       "      <td>0.0</td>\n",
       "      <td>0.0</td>\n",
       "    </tr>\n",
       "    <tr>\n",
       "      <th>680</th>\n",
       "      <td>0.067823</td>\n",
       "      <td>0.518641</td>\n",
       "      <td>0.126017</td>\n",
       "      <td>0.142384</td>\n",
       "      <td>0.448606</td>\n",
       "      <td>0.0</td>\n",
       "      <td>0.0</td>\n",
       "      <td>0.0</td>\n",
       "      <td>1.0</td>\n",
       "      <td>0.0</td>\n",
       "      <td>...</td>\n",
       "      <td>0.0</td>\n",
       "      <td>0.0</td>\n",
       "      <td>0.0</td>\n",
       "      <td>0.0</td>\n",
       "      <td>0.0</td>\n",
       "      <td>0.0</td>\n",
       "      <td>0.0</td>\n",
       "      <td>0.0</td>\n",
       "      <td>1.0</td>\n",
       "      <td>0.0</td>\n",
       "    </tr>\n",
       "    <tr>\n",
       "      <th>290</th>\n",
       "      <td>0.051144</td>\n",
       "      <td>0.438739</td>\n",
       "      <td>0.093691</td>\n",
       "      <td>0.117748</td>\n",
       "      <td>0.377570</td>\n",
       "      <td>0.0</td>\n",
       "      <td>0.0</td>\n",
       "      <td>0.0</td>\n",
       "      <td>0.0</td>\n",
       "      <td>0.0</td>\n",
       "      <td>...</td>\n",
       "      <td>0.0</td>\n",
       "      <td>0.0</td>\n",
       "      <td>0.0</td>\n",
       "      <td>0.0</td>\n",
       "      <td>0.0</td>\n",
       "      <td>0.0</td>\n",
       "      <td>0.0</td>\n",
       "      <td>0.0</td>\n",
       "      <td>0.0</td>\n",
       "      <td>0.0</td>\n",
       "    </tr>\n",
       "  </tbody>\n",
       "</table>\n",
       "<p>192 rows × 92 columns</p>\n",
       "</div>"
      ],
      "text/plain": [
       "          age  education.num  capital.gain  capital.loss  hours.per.week  \\\n",
       "847  0.103485       0.534719      0.187809      0.114989        0.471664   \n",
       "739 -0.161607       0.369771      0.218976      0.170122        0.413305   \n",
       "274  0.071218       0.352251      0.128771      0.063953        0.375419   \n",
       "704  0.019593       0.064369      0.375381      0.069501        0.394139   \n",
       "78  -0.007432       0.231049      0.437667     -0.016125        0.366932   \n",
       "..        ...            ...           ...           ...             ...   \n",
       "938  0.019460      -0.001403      0.331468      0.114764        0.416940   \n",
       "54   0.036557       0.487635      0.086724      0.169354        0.449624   \n",
       "584  0.019460      -0.001403      0.331468      0.114764        0.416940   \n",
       "680  0.067823       0.518641      0.126017      0.142384        0.448606   \n",
       "290  0.051144       0.438739      0.093691      0.117748        0.377570   \n",
       "\n",
       "     workclass_?  workclass_Federal-gov  workclass_Local-gov  \\\n",
       "847          0.0                    0.0                  0.0   \n",
       "739          1.0                    0.0                  0.0   \n",
       "274          0.0                    0.0                  0.0   \n",
       "704          0.0                    0.0                  0.0   \n",
       "78           0.0                    0.0                  0.0   \n",
       "..           ...                    ...                  ...   \n",
       "938          0.0                    0.0                  0.0   \n",
       "54           0.0                    0.0                  0.0   \n",
       "584          0.0                    0.0                  0.0   \n",
       "680          0.0                    0.0                  0.0   \n",
       "290          0.0                    0.0                  0.0   \n",
       "\n",
       "     workclass_Private  workclass_Self-emp-inc  ...  native.country_Mexico  \\\n",
       "847                1.0                     0.0  ...                    0.0   \n",
       "739                0.0                     0.0  ...                    0.0   \n",
       "274                1.0                     0.0  ...                    0.0   \n",
       "704                0.0                     0.0  ...                    0.0   \n",
       "78                 1.0                     0.0  ...                    0.0   \n",
       "..                 ...                     ...  ...                    ...   \n",
       "938                1.0                     0.0  ...                    0.0   \n",
       "54                 1.0                     0.0  ...                    0.0   \n",
       "584                0.0                     0.0  ...                    0.0   \n",
       "680                1.0                     0.0  ...                    0.0   \n",
       "290                0.0                     0.0  ...                    0.0   \n",
       "\n",
       "     native.country_Nicaragua  native.country_Philippines  \\\n",
       "847                       0.0                         0.0   \n",
       "739                       0.0                         0.0   \n",
       "274                       0.0                         0.0   \n",
       "704                       0.0                         0.0   \n",
       "78                        0.0                         0.0   \n",
       "..                        ...                         ...   \n",
       "938                       0.0                         0.0   \n",
       "54                        0.0                         0.0   \n",
       "584                       0.0                         0.0   \n",
       "680                       0.0                         0.0   \n",
       "290                       0.0                         0.0   \n",
       "\n",
       "     native.country_Poland  native.country_Puerto-Rico  native.country_South  \\\n",
       "847                    0.0                         0.0                   0.0   \n",
       "739                    0.0                         0.0                   0.0   \n",
       "274                    0.0                         0.0                   0.0   \n",
       "704                    0.0                         0.0                   0.0   \n",
       "78                     0.0                         0.0                   0.0   \n",
       "..                     ...                         ...                   ...   \n",
       "938                    0.0                         0.0                   0.0   \n",
       "54                     0.0                         0.0                   0.0   \n",
       "584                    0.0                         0.0                   0.0   \n",
       "680                    0.0                         0.0                   0.0   \n",
       "290                    0.0                         0.0                   0.0   \n",
       "\n",
       "     native.country_Taiwan  native.country_Trinadad&Tobago  \\\n",
       "847                    0.0                             0.0   \n",
       "739                    0.0                             0.0   \n",
       "274                    0.0                             0.0   \n",
       "704                    0.0                             0.0   \n",
       "78                     0.0                             0.0   \n",
       "..                     ...                             ...   \n",
       "938                    0.0                             0.0   \n",
       "54                     0.0                             0.0   \n",
       "584                    0.0                             0.0   \n",
       "680                    0.0                             0.0   \n",
       "290                    0.0                             0.0   \n",
       "\n",
       "     native.country_United-States  native.country_Vietnam  \n",
       "847                           1.0                     0.0  \n",
       "739                           0.0                     0.0  \n",
       "274                           1.0                     0.0  \n",
       "704                           0.0                     0.0  \n",
       "78                            1.0                     0.0  \n",
       "..                            ...                     ...  \n",
       "938                           0.0                     0.0  \n",
       "54                            1.0                     0.0  \n",
       "584                           0.0                     0.0  \n",
       "680                           1.0                     0.0  \n",
       "290                           0.0                     0.0  \n",
       "\n",
       "[192 rows x 92 columns]"
      ]
     },
     "execution_count": 18,
     "metadata": {},
     "output_type": "execute_result"
    }
   ],
   "source": [
    "X_dirty"
   ]
  },
  {
   "cell_type": "markdown",
   "metadata": {},
   "source": [
    "(Optional) Check save/load function of preprocessor\n",
    "\n",
    "Both functiona take in 2 parameters:\n",
    "\n",
    "    - Suffix of the preprocessor name, in the example below would be **preprocessor_main.pkl**\n",
    "    - Save/load location: can either be \"local\" to save/load in the home folder or \"bucketfs\" to save/load to/from Exasol BucketFS"
   ]
  },
  {
   "cell_type": "code",
   "execution_count": 23,
   "metadata": {
    "tags": [
     "hide_cell"
    ]
   },
   "outputs": [],
   "source": [
    "preprocessor.save(\"main\",\"local\")\n",
    "# preprocessor.save(\"main\",\"bucketfs\")\n",
    "# preprocessor = Preprocessor(scaler=MinMaxScaler(),encoder=OneHotEncoder(sparse=False))\n",
    "# preprocessor2.load(\"main\",\"local\")\n",
    "# preprocessor2.load(\"main\",\"bucketfs\")"
   ]
  },
  {
   "cell_type": "markdown",
   "metadata": {},
   "source": [
    "Convert dataframes into datasets, and create dataloaders"
   ]
  },
  {
   "cell_type": "code",
   "execution_count": 14,
   "metadata": {},
   "outputs": [],
   "source": [
    "dirty_dataset = PlainDataset(X_dirty)\n",
    "\n",
    "dirty_loader = DataLoader(dirty_dataset, batch_size=batch_size, shuffle=False, drop_last=True, collate_fn=custom_collate_fn)"
   ]
  },
  {
   "cell_type": "markdown",
   "metadata": {},
   "source": [
    "## Instantiate model"
   ]
  },
  {
   "cell_type": "code",
   "execution_count": 15,
   "metadata": {},
   "outputs": [],
   "source": [
    "autoencoder = Autoencoder(layers=layers,dropout_enc=[(0,0.0)],dropout_dec=[(0,0.1)], batch_norm=True, \\\n",
    "                          learning_rate=1e-4,weight_decay=1e-5,l1_strength=1e-5,l2_strength=1e-5)"
   ]
  },
  {
   "cell_type": "code",
   "execution_count": 27,
   "metadata": {},
   "outputs": [
    {
     "name": "stdout",
     "output_type": "stream",
     "text": [
      "----------------------------------------------------------------\n",
      "        Layer (type)               Output Shape         Param #\n",
      "================================================================\n",
      "            Linear-1                 [-1, 1024]          95,232\n",
      "       BatchNorm1d-2                 [-1, 1024]           2,048\n",
      "              ReLU-3                 [-1, 1024]               0\n",
      "           Dropout-4                 [-1, 1024]               0\n",
      "            Linear-5                  [-1, 128]         131,200\n",
      "       BatchNorm1d-6                  [-1, 128]             256\n",
      "              ReLU-7                  [-1, 128]               0\n",
      "            Linear-8                 [-1, 1024]         132,096\n",
      "              ReLU-9                 [-1, 1024]               0\n",
      "          Dropout-10                 [-1, 1024]               0\n",
      "           Linear-11                   [-1, 92]          94,300\n",
      "             ReLU-12                   [-1, 92]               0\n",
      "           Linear-13                   [-1, 92]           8,556\n",
      "================================================================\n",
      "Total params: 463,688\n",
      "Trainable params: 463,688\n",
      "Non-trainable params: 0\n",
      "----------------------------------------------------------------\n",
      "Input size (MB): 0.00\n",
      "Forward/backward pass size (MB): 0.06\n",
      "Params size (MB): 1.77\n",
      "Estimated Total Size (MB): 1.83\n",
      "----------------------------------------------------------------\n"
     ]
    }
   ],
   "source": [
    "summary(autoencoder.to(device),torch.tensor(X_train.values).float().to(device).shape[1:])"
   ]
  },
  {
   "cell_type": "markdown",
   "metadata": {},
   "source": [
    "(Optional) Model can be loaded from checkpoint after instantiation\n",
    "\n",
    "The function takes in 2 parameters:\n",
    "\n",
    "    - Suffix of the preprocessor name, in the example below would be **autoencoder_main.pkl**\n",
    "    - Save/load location: can either be \"local\" to load in the home folder or \"bucketfs\" to load from Exasol BucketFS"
   ]
  },
  {
   "cell_type": "markdown",
   "metadata": {},
   "source": [
    "### Train the model"
   ]
  },
  {
   "cell_type": "code",
   "execution_count": 16,
   "metadata": {},
   "outputs": [
    {
     "name": "stderr",
     "output_type": "stream",
     "text": [
      "Epoch [1/1], Training Progress: 100%|██████████| 356/356 [00:16<00:00, 21.14it/s]\n",
      "Epoch [1/1], Validation Progress: 100%|██████████| 76/76 [00:02<00:00, 25.57it/s]"
     ]
    },
    {
     "name": "stdout",
     "output_type": "stream",
     "text": [
      "Epoch [1/1], Training Loss: 6.09625684\n",
      "Epoch [1/1], Validation Loss: 2.12896782\n",
      "Epoch [1/1], Training CE Loss: 6.05852925\n",
      "Epoch [1/1], Validation CE Loss: 2.10090744\n",
      "Epoch [1/1], Training MSE Loss: 0.03772758\n",
      "Epoch [1/1], Validation MSE Loss: 0.02806038\n",
      "Epoch [1/1], Training Loss Comp: 6.09625684\n",
      "Epoch [1/1], Validation Loss Comp: 2.12896782\n",
      "Epoch [1/1]: Learning Rate = [0.0001]\n",
      "\n"
     ]
    },
    {
     "name": "stderr",
     "output_type": "stream",
     "text": [
      "\n"
     ]
    }
   ],
   "source": [
    "autoencoder.train_model(\n",
    "      patience=10,\n",
    "      num_epochs=1,\n",
    "      batch_size=batch_size,\n",
    "      train_loader=train_loader,\n",
    "      val_loader=val_loader,\n",
    "      continous_columns=continous_columns, \n",
    "      categorical_columns=categorical_columns, \n",
    "      categories=categories,\n",
    "      device=device,\n",
    "      wlc=wlc)"
   ]
  },
  {
   "cell_type": "markdown",
   "metadata": {},
   "source": [
    "(Optional) Model can be saved after training\n",
    "\n",
    "The function takes in 2 parameters:\n",
    "\n",
    "    - Suffix of the preprocessor name, in the example below would be **autoencoder_main.pkl**\n",
    "    - Save/load location: can either be \"local\" to load in the home folder or \"bucketfs\" to load from Exasol BucketFS"
   ]
  },
  {
   "cell_type": "code",
   "execution_count": 29,
   "metadata": {
    "tags": [
     "hide_cell"
    ]
   },
   "outputs": [],
   "source": [
    "# autoencoder.save(\"local\",\"main\")\n",
    "# autoencoder.load(\"local\",\"main\")\n",
    "autoencoder.save(\"bucketfs\",\"main\",url=\"http://172.18.0.2:6583\",bucket=\"default\",user=\"w\",password=\"write\")"
   ]
  },
  {
   "cell_type": "markdown",
   "metadata": {},
   "source": [
    "### Use trained model to clean data"
   ]
  },
  {
   "cell_type": "code",
   "execution_count": 17,
   "metadata": {},
   "outputs": [
    {
     "name": "stderr",
     "output_type": "stream",
     "text": [
      "Clean progress: 100%|██████████| 76/76 [00:06<00:00, 12.58it/s]"
     ]
    },
    {
     "name": "stdout",
     "output_type": "stream",
     "text": [
      "\n",
      "MAE: 0.02430817\n",
      "\n",
      "MSE: 0.01999156\n"
     ]
    },
    {
     "name": "stderr",
     "output_type": "stream",
     "text": [
      "\n"
     ]
    }
   ],
   "source": [
    "cleaned_data = autoencoder.clean(\n",
    "    dirty_loader=dirty_loader,\n",
    "    test_loader=test_loader,\n",
    "    df=X_dirty,\n",
    "    batch_size=batch_size,\n",
    "    continous_columns=continous_columns, \n",
    "    categorical_columns=categorical_columns, \n",
    "    og_columns=og_columns,\n",
    "    onehotencoder=preprocessor.encoder, \n",
    "    scaler=preprocessor.scaler,\n",
    "    device=device) "
   ]
  },
  {
   "cell_type": "code",
   "execution_count": null,
   "metadata": {},
   "outputs": [
    {
     "name": "stderr",
     "output_type": "stream",
     "text": [
      "Clean progress: 100%|██████████| 76/76 [00:06<00:00, 12.58it/s]"
     ]
    },
    {
     "name": "stdout",
     "output_type": "stream",
     "text": [
      "\n",
      "MAE: 0.02430817\n",
      "\n",
      "MSE: 0.01999156\n"
     ]
    },
    {
     "name": "stderr",
     "output_type": "stream",
     "text": [
      "\n"
     ]
    }
   ],
   "source": [
    "cleaned_data = autoencoder.clean(\n",
    "    dirty_loader=dirty_loader,\n",
    "    test_loader=test_loader,\n",
    "    df=X_dirty,\n",
    "    batch_size=batch_size,\n",
    "    continous_columns=continous_columns, \n",
    "    categorical_columns=categorical_columns, \n",
    "    og_columns=og_columns,\n",
    "    onehotencoder=preprocessor.encoder, \n",
    "    scaler=preprocessor.scaler,\n",
    "    device=device) "
   ]
  },
  {
   "cell_type": "code",
   "execution_count": null,
   "metadata": {},
   "outputs": [],
   "source": [
    "# original data\n",
    "print(tabulate(df.loc[[28296,28217,8054,4223,22723],og_columns],headers=og_columns,tablefmt=\"simple\",maxcolwidths=[None, 4]))"
   ]
  },
  {
   "cell_type": "code",
   "execution_count": null,
   "metadata": {},
   "outputs": [],
   "source": [
    "# cleaned data\n",
    "print(tabulate(cleaned_data.loc[[28296,28217,8054,4223,22723]],headers=cleaned_data.columns.to_list(),tablefmt=\"simple\",maxcolwidths=[None, 4]))"
   ]
  },
  {
   "cell_type": "markdown",
   "metadata": {},
   "source": [
    "### Use trained model to anonymize data"
   ]
  },
  {
   "cell_type": "code",
   "execution_count": 18,
   "metadata": {},
   "outputs": [
    {
     "name": "stderr",
     "output_type": "stream",
     "text": [
      "Anonymize progress: 100%|██████████| 76/76 [00:02<00:00, 26.65it/s]\n"
     ]
    }
   ],
   "source": [
    "anonymized_data = autoencoder.anonymize(df=X_test,\n",
    "                                        data_loader=test_loader,\n",
    "                                        batch_size=batch_size,\n",
    "                                        device=device)"
   ]
  },
  {
   "cell_type": "code",
   "execution_count": null,
   "metadata": {},
   "outputs": [],
   "source": [
    "# anonymized data\n",
    "print(tabulate(anonymized_data.round(decimals=4).iloc[:5,:32],headers=anonymized_data.columns.to_list(),tablefmt=\"simple\",maxcolwidths=[None, 6]))"
   ]
  }
 ],
 "metadata": {
  "kernelspec": {
   "display_name": "gpt",
   "language": "python",
   "name": "python3"
  },
  "language_info": {
   "codemirror_mode": {
    "name": "ipython",
    "version": 3
   },
   "file_extension": ".py",
   "mimetype": "text/x-python",
   "name": "python",
   "nbconvert_exporter": "python",
   "pygments_lexer": "ipython3",
   "version": "3.10.0"
  }
 },
 "nbformat": 4,
 "nbformat_minor": 2
}
