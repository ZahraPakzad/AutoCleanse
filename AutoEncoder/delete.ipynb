{
 "cells": [
  {
   "cell_type": "code",
   "execution_count": 1,
   "metadata": {},
   "outputs": [],
   "source": [
    "import pandas as pd"
   ]
  },
  {
   "cell_type": "code",
   "execution_count": 3,
   "metadata": {},
   "outputs": [],
   "source": [
    "df = pd.read_csv('D:/#Work/Student_job_2022-23_summer/HS_Munich/data/motorbikes/europe-motorbikes-zenrows.csv')\n",
    "df_adult = pd.read_csv('D:/#Work/Student_job_2022-23_summer/HS_Munich/data/adult.csv')\n"
   ]
  },
  {
   "cell_type": "code",
   "execution_count": 10,
   "metadata": {},
   "outputs": [
    {
     "name": "stdout",
     "output_type": "stream",
     "text": [
      "Index(['age', 'workclass', 'fnlwgt', 'education', 'educational-num',\n",
      "       'marital-status', 'occupation', 'relationship', 'race', 'gender',\n",
      "       'capital-gain', 'capital-loss', 'hours-per-week', 'native-country',\n",
      "       'income'],\n",
      "      dtype='object')\n"
     ]
    },
    {
     "data": {
      "text/plain": [
       "[74, 9, 28523, 16, 16, 7, 15, 6, 5, 2, 123, 99, 96, 42, 2]"
      ]
     },
     "execution_count": 10,
     "metadata": {},
     "output_type": "execute_result"
    }
   ],
   "source": [
    "\n",
    "unique_nums = []\n",
    "for column in df_adult:\n",
    "    unique_nums.append(len(df_adult[column].unique()))\n",
    "\n",
    "print(df_adult.columns)\n",
    "unique_nums"
   ]
  },
  {
   "cell_type": "code",
   "execution_count": 11,
   "metadata": {},
   "outputs": [
    {
     "name": "stdout",
     "output_type": "stream",
     "text": [
      "Index(['price', 'mileage', 'power', 'fuel', 'gear', 'offer_type',\n",
      "       'make_model'],\n",
      "      dtype='object')\n"
     ]
    },
    {
     "data": {
      "text/plain": [
       "[2505, 9491, 288, 8, 4, 5, 2168]"
      ]
     },
     "execution_count": 11,
     "metadata": {},
     "output_type": "execute_result"
    }
   ],
   "source": [
    "unique_nums = []\n",
    "for column in df:\n",
    "    unique_nums.append(len(df[column].unique()))\n",
    "print(df.columns)\n",
    "unique_nums"
   ]
  },
  {
   "cell_type": "code",
   "execution_count": 14,
   "metadata": {},
   "outputs": [
    {
     "data": {
      "text/plain": [
       "143"
      ]
     },
     "execution_count": 14,
     "metadata": {},
     "output_type": "execute_result"
    }
   ],
   "source": [
    "make_model_uknown = ['Kawasaki Concours', 'Peugeot Streetzone', 'Hisun HS 800', 'Moto Guzzi MGS-01', 'Benelli Tornado LE 900', 'Garelli Flexi', 'Motobi Pesaro', 'Cectek Gladiator 500', 'Egli Honda', 'Triumph T 500', 'Kumpan Electric 54iconic', 'Buell S 2', 'Keeway Logik', 'KTM 600 LC 4', 'Daelim Delfino 125', 'Aprilia Atlantic 250', 'Luxxon YX9', 'Aprilia Shiver 750', 'Vespa LXV 125 ie Vie della Moda', 'Access Shade Xtreme 650', 'Ossa Explorer', 'Polini XP 4T', 'Yamaha YFM 450', 'KSR Moto Sirion 50', 'MZ ETZ Gespann', 'Trinity', 'Honda Shadow Black Spirit', 'Husaberg FE 550', 'Atala', 'Yamaha YZF-R15', 'SYM X-Pro', 'Kymco MXU 450i', 'Quadix Trooper 800', 'Kawasaki ZX 600', 'Mondial SPORT CLASSIC 125i', 'Vespa 946', 'CF Moto 650GT', 'Triumph Bonneville America', 'Bimota KB 3', 'Torrot Muvi', 'Kawasaki ZZR 600', 'Triumph Trident 900', 'Cagiva Elefant 650', 'Indian Custom', 'SWM SM 125 R', 'BMW R 1100 GS', 'Honda Jazz 250', 'CSR', 'ZR 600', 'Triumph Trident 900', 'Cagiva Elefant 650', 'Indian Custom', 'SWM SM 125 R', 'BMW R 1100 GS', 'Honda Jazz 250', 'CSR', 'Ducati 500 Pantah', 'Kawasaki Z 300', 'Bombardier DS 650', 'Access Shade Sport 650', 'TM SMR 125', 'Hyosung MS3i 250', 'Suzuki RGV 250', 'Honda Shadow 90', 'Jawa 250', 'Fiat Ducato', 'Others Rizzato', 'Honda NR 750', 'Piaggio Ciao', 'Yamaha Versity 300', 'Big Dog Ridgeback', 'Aprilia Leonardo 250', 'Kawasaki KZ 750', 'Kawasaki EN 500', 'Hyosung Comet 125', 'Kymco Venox 250', 'Sherco 250 SE', 'Explorer Race 125', 'Moto Guzzi Stornello', 'Mondial Piega', 'Kawasaki Zephyr 1100', 'Yamaha EC 03', 'AJP', 'HM CRM Basic', 'Honda Monkey ZB 50', 'Vespa 150 GS', 'Bullit V-BOB 250', 'Ariel Motorcycles NH', 'Quadro Quadro3', 'TM SMX 450 Fi', 'Aprilia RC 50', 'Vespa GT', 'Derbi Cross City 125', 'Kawasaki GPZ 600', 'Ducati 350 Mark 3', 'Suzuki GSX 650', 'Explorer W125', 'Vespa 150 Sprint', 'Kymco Bet & Win 125', 'Adly Hurricane 500', 'Benda', 'SYM C 50', 'Triumph Daytona 955i', 'Italjet', 'Quadro 350D', 'Benda Benson 50', 'Verve Moto', 'Boom Trike', 'Can Am Spyder ST-S', 'BMW HP2', 'Boom Trike Chopper', 'Mondial FLAT TRACK 125i', 'Bajaj Pulsar 135', 'Peugeot Jet C-Tech', 'Kawasaki ZL 900', 'Efun Lipo', 'FK Motors Street Scrambler', 'Stels', 'Ducati 250 Mark 3', 'Sherco 3.0', 'Generic Soho 125', 'Victory 8-Ball', 'Fantic 250E', 'Kawasaki KLE 500', 'Simson', 'Boom Trike Mustang Family', 'Others Kosmos', 'Montesa Impala', 'SYM Fiddle 200', 'BSA B 31', 'Aprilia SL 1000', 'Skyteam ST 125', 'Moto Guzzi V 75', 'Bimota YB 10', 'MZ TS 150', 'BMW R 42', 'Aeon Crossland 600', 'Gilera Nexus 125', 'Bimota SB 6', 'Garelli GSP 50', 'Kymco People 50', 'Benelli 49X', 'Kymco Movie 125S']\n",
    "len(make_model_uknown)"
   ]
  },
  {
   "cell_type": "code",
   "execution_count": 19,
   "metadata": {},
   "outputs": [
    {
     "name": "stdout",
     "output_type": "stream",
     "text": [
      "<bound method IndexOpsMixin.tolist of 0                           Honda\n",
      "1                    BMW F 800 GT\n",
      "2          Nova Motors Retro Star\n",
      "3                    Aprilia RSV4\n",
      "4            Kawasaki Ninja ZX-6R\n",
      "                   ...           \n",
      "34912               BMW R 1200 RT\n",
      "34913    Harley-Davidson Iron 883\n",
      "34914               BMW S 1000 XR\n",
      "34915     Triumph Bonneville T100\n",
      "34916             Yamaha TMAX 530\n",
      "Name: make_model, Length: 34750, dtype: object>\n"
     ]
    }
   ],
   "source": [
    "df_known = df.loc[~df.make_model.isin(make_model_uknown)]\n",
    "df_known = df_known.make_model.to_list\n",
    "print(df_known)"
   ]
  },
  {
   "cell_type": "code",
   "execution_count": 26,
   "metadata": {},
   "outputs": [
    {
     "data": {
      "text/plain": [
       "1        BMW F 800 GT\n",
       "55       BMW F 800 GT\n",
       "794      BMW F 800 GT\n",
       "977      BMW F 800 GT\n",
       "1596     BMW F 800 GT\n",
       "             ...     \n",
       "31811    BMW F 800 GT\n",
       "33013    BMW F 800 GT\n",
       "33578    BMW F 800 GT\n",
       "33982    BMW F 800 GT\n",
       "34282    BMW F 800 GT\n",
       "Name: make_model, Length: 67, dtype: object"
      ]
     },
     "execution_count": 26,
     "metadata": {},
     "output_type": "execute_result"
    }
   ],
   "source": [
    "df[df.make_model == 'BMW F 800 GT'].make_model"
   ]
  },
  {
   "cell_type": "code",
   "execution_count": 27,
   "metadata": {},
   "outputs": [
    {
     "data": {
      "text/plain": [
       "135"
      ]
     },
     "execution_count": 27,
     "metadata": {},
     "output_type": "execute_result"
    }
   ],
   "source": [
    "mkmmuk = ['SYM Fiddle 200', 'Mondial FLAT TRACK 125i', 'Yamaha EC 03', 'Kawasaki ZZR 600', 'Generic Soho 125', 'Access Shade Sport 650', 'Jawa 250', 'Bombardier DS 650', 'BMW HP2', 'Mondial Piega', 'Moto Guzzi Stornello', 'Ossa Explorer', 'MZ ETZ Gespann', 'Vespa 150 GS', 'Boom Trike Mustang Family', 'KTM 600 LC 4', 'Explorer W125', 'Yamaha YFM 450', 'Derbi Cross City 125', 'Ducati 350 Mark 3', 'Bullit V-BOB 250', 'Cagiva Elefant 650', 'Luxxon YX9', 'BMW R 42', 'Kymco Movie 125S', 'Garelli Flexi', 'Skyteam ST 125', 'Fiat Ducato', 'Stels', 'BSA B 31', 'Quadix Trooper 800', 'Buell S 2', 'Honda NR 750', 'Ariel Motorcycles NH', 'Aprilia RC 50', 'Peugeot Jet C-Tech', 'Garelli GSP 50', 'FK Motors Street Scrambler', 'Big Dog Ridgeback', 'Kawasaki KLE 500', 'Kawasaki GPZ 600', 'Egli Honda', 'Montesa Impala', 'Honda Shadow Black Spirit', 'Daelim Delfino 125', 'Kymco People 50', 'Yamaha YZF-R15', 'Kawasaki EN 500', 'Sherco 3.0', 'Bimota SB 6', 'TM SMX 450 Fi', 'Kawasaki Z 300', 'Others Rizzato', 'Vespa LXV 125 ie Vie della Moda', 'Kumpan Electric 54iconic', 'Gilera Nexus 125', 'Vespa 946', 'Aprilia Shiver 750', 'Triumph Bonneville America', 'Sherco 250 SE', 'Keeway Logik', 'Vespa GT', 'Aprilia Leonardo 250', 'Aprilia Atlantic 250', 'Honda Jazz 250', 'Access Shade Xtreme 650', 'Benelli Tornado LE 900', 'Simson', 'Kawasaki KZ 750', 'SWM SM 125 R', 'AJP', 'Torrot Muvi', 'Ducati 250 Mark 3', 'CSR', 'CF Moto 650GT', 'BMW R 1100 GS', 'Ducati 500 Pantah', 'Explorer Race 125', 'Honda Monkey ZB 50', 'Bimota YB 10', 'Peugeot Streetzone', 'SYM C 50', 'KSR Moto Sirion 50', 'Motobi Pesaro', 'Vespa 150 Sprint', 'Trinity', 'Aeon Crossland 600', 'Moto Guzzi MGS-01', 'Suzuki RGV 250', 'Mondial SPORT CLASSIC 125i', 'Cectek Gladiator 500', 'Kawasaki Zephyr 1100', 'Kymco MXU 450i', 'MZ TS 150', 'TM SMR 125', 'Benda', 'Aprilia SL 1000', 'Quadro Quadro3', 'Polini XP 4T', 'Kymco Bet & Win 125', 'Honda Shadow 90', 'Husaberg FE 550', 'Benda Benson 50', 'Hyosung Comet 125', 'Verve Moto', 'Bimota KB 3', 'Suzuki GSX 650', 'Fantic 250E', 'Benelli 49X', 'Others Kosmos', 'Triumph T 500', 'Kymco Venox 250', 'Victory 8-Ball', 'Italjet', 'Boom Trike Chopper', 'HM CRM Basic', 'Kawasaki ZL 900', 'Boom Trike', 'Triumph Daytona 955i', 'Piaggio Ciao', 'Kawasaki ZX 600', 'Adly Hurricane 500', 'Atala', 'Moto Guzzi V 75', 'Hyosung MS3i 250', 'SYM X-Pro', 'Kawasaki Concours', 'Bajaj Pulsar 135', 'Quadro 350D', 'Efun Lipo', 'Can Am Spyder ST-S', 'Triumph Trident 900', 'Hisun HS 800', 'Yamaha Versity 300', 'Indian Custom']\n",
    "len(mkmmuk)\n"
   ]
  },
  {
   "cell_type": "code",
   "execution_count": 28,
   "metadata": {},
   "outputs": [
    {
     "data": {
      "text/plain": [
       "135"
      ]
     },
     "execution_count": 28,
     "metadata": {},
     "output_type": "execute_result"
    }
   ],
   "source": [
    "mmuk2 = ['KSR Moto Sirion 50', 'Kymco Movie 125S', 'MZ TS 150', 'Benelli Tornado LE 900', 'Victory 8-Ball', 'Cectek Gladiator 500', 'Kymco MXU 450i', 'Sherco 3.0', 'Vespa 150 GS', 'Kymco Bet & Win 125', 'CSR', 'Garelli GSP 50', 'SWM SM 125 R', 'Vespa LXV 125 ie Vie della Moda', 'Bullit V-BOB 250', 'Hyosung MS3i 250', 'Honda Shadow 90', 'Daelim Delfino 125', 'Kawasaki ZX 600', 'Fiat Ducato', 'Ariel Motorcycles NH', 'Adly Hurricane 500', 'Garelli Flexi', 'Others Rizzato', 'Bajaj Pulsar 135', 'Bimota KB 3', 'Vespa 150 Sprint', 'Boom Trike Mustang Family', 'CF Moto 650GT', 'Skyteam ST 125', 'Quadro 350D', 'Polini XP 4T', 'Moto Guzzi V 75', 'Luxxon YX9', 'Access Shade Sport 650', 'Honda NR 750', 'Bombardier DS 650', 'Triumph Bonneville America', 'Aprilia SL 1000', 'Bimota YB 10', 'MZ ETZ Gespann', 'Kawasaki ZL 900', 'Kymco People 50', 'Vespa GT', 'Kawasaki KLE 500', 'Stels', 'Peugeot Jet C-Tech', 'Aprilia Leonardo 250', 'Honda Monkey ZB 50', 'Efun Lipo', 'Bimota SB 6', 'Quadix Trooper 800', 'Mondial FLAT TRACK 125i', 'Atala', 'Derbi Cross City 125', 'Triumph Trident 900', 'Kymco Venox 250', 'Mondial SPORT CLASSIC 125i', 'Yamaha EC 03', 'Kumpan Electric 54iconic', 'KTM 600 LC 4', 'Benda', 'BMW R 42', 'Hyosung Comet 125', 'Egli Honda', 'FK Motors Street Scrambler', 'Keeway Logik', 'Kawasaki ZZR 600', 'Motobi Pesaro', 'Yamaha YFM 450', 'Triumph Daytona 955i', 'Simson', 'Piaggio Ciao', 'Moto Guzzi Stornello', 'Honda Shadow Black Spirit', 'Kawasaki Concours', 'Yamaha Versity 300', 'Kawasaki Zephyr 1100', 'Boom Trike', 'Gilera Nexus 125', 'Mondial Piega', 'Ossa Explorer', 'Explorer Race 125', 'Ducati 250 Mark 3', 'Kawasaki EN 500', 'Ducati 350 Mark 3', 'Kawasaki KZ 750', 'BMW R 1100 GS', 'Torrot Muvi', 'SYM Fiddle 200', 'Generic Soho 125', 'Hisun HS 800', 'Yamaha YZF-R15', 'Kawasaki GPZ 600', 'Trinity', 'HM CRM Basic', 'SYM X-Pro', 'Access Shade Xtreme 650', 'Moto Guzzi MGS-01', 'TM SMX 450 Fi', 'Indian Custom', 'TM SMR 125', 'Buell S 2', 'Aprilia RC 50', 'Verve Moto', 'Cagiva Elefant 650', 'AJP', 'Sherco 250 SE', 'Boom Trike Chopper', 'Jawa 250', 'Montesa Impala', 'BSA B 31', 'Aprilia Atlantic 250', 'Can Am Spyder ST-S', 'Husaberg FE 550', 'Aeon Crossland 600', 'Fantic 250E', 'Triumph T 500', 'Big Dog Ridgeback', 'BMW HP2', 'SYM C 50', 'Benelli 49X', 'Kawasaki Z 300', 'Suzuki GSX 650', 'Explorer W125', 'Aprilia Shiver 750', 'Others Kosmos', 'Vespa 946', 'Italjet', 'Quadro Quadro3', 'Benda Benson 50', 'Ducati 500 Pantah', 'Honda Jazz 250', 'Peugeot Streetzone', 'Suzuki RGV 250']\n",
    "len(mmuk2)"
   ]
  },
  {
   "cell_type": "code",
   "execution_count": null,
   "metadata": {},
   "outputs": [],
   "source": []
  }
 ],
 "metadata": {
  "kernelspec": {
   "display_name": "Python 3",
   "language": "python",
   "name": "python3"
  },
  "language_info": {
   "codemirror_mode": {
    "name": "ipython",
    "version": 3
   },
   "file_extension": ".py",
   "mimetype": "text/x-python",
   "name": "python",
   "nbconvert_exporter": "python",
   "pygments_lexer": "ipython3",
   "version": "3.10.0"
  },
  "orig_nbformat": 4
 },
 "nbformat": 4,
 "nbformat_minor": 2
}
